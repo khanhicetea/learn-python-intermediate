{
 "cells": [
  {
   "cell_type": "markdown",
   "source": [
    "## BUILT-IN FUNCTIONS - Part 2"
   ],
   "metadata": {}
  },
  {
   "cell_type": "code",
   "execution_count": 5,
   "source": [
    "# float\n",
    "# Return a floating point number constructed from a number or string x\n",
    "\n",
    "class Float1:\n",
    "    def __index__(self):\n",
    "        return 123\n",
    "\n",
    "    def __float__(self):\n",
    "        return -13579.2468\n",
    "\n",
    "class Float2:\n",
    "    def __index__(self):\n",
    "        return 234\n",
    "\n",
    "print(float(123))\n",
    "print(float(123.456))\n",
    "print(float('-123.456'))\n",
    "print(float('    -123.456'))\n",
    "print(float('-0.4E7'))\n",
    "print(float(Float1()))\n",
    "print(float(Float2()))\n",
    "print(float('-Infinity'))\n",
    "print(float('-Infinity')+float('+Infinity')) # = 0 ? LOL !!"
   ],
   "outputs": [
    {
     "output_type": "stream",
     "name": "stdout",
     "text": [
      "123.0\n",
      "123.456\n",
      "-123.456\n",
      "-123.456\n",
      "-4000000.0\n",
      "-13579.2468\n",
      "234.0\n",
      "-inf\n",
      "nan\n"
     ]
    }
   ],
   "metadata": {}
  },
  {
   "cell_type": "code",
   "execution_count": 6,
   "source": [
    "# getattr\n",
    "# getattr(object, name[, default])\n",
    "# Return the value of the named attribute of object. name must be a string.\n",
    "# If the string is the name of one of the object’s attributes, the result is the value of that attribute\n",
    "\n",
    "class GetAttr1:\n",
    "    def __init__(self) -> None:\n",
    "        self.a = 123\n",
    "        self.__b = 678 # private-name-mangling , this attr only access in the class, not public with new name _[ClassName]__[var]\n",
    "    \n",
    "    def get_b(self):\n",
    "        return self.__b\n",
    "\n",
    "float1_func = getattr(Float1, '__float__')\n",
    "print(float1_func('anything'))\n",
    "\n",
    "getattr1 = GetAttr1()\n",
    "print(getattr(getattr1, 'a'))\n",
    "print(getattr(getattr1, '_GetAttr1__b')) # access new name\n",
    "print(getattr1.get_b()) # through public getter\n",
    "print(getattr(getattr1, '__b')) # but can't this way\n"
   ],
   "outputs": [
    {
     "output_type": "stream",
     "name": "stdout",
     "text": [
      "-13579.2468\n",
      "123\n",
      "678\n",
      "678\n"
     ]
    },
    {
     "output_type": "error",
     "ename": "AttributeError",
     "evalue": "'GetAttr1' object has no attribute '__b'",
     "traceback": [
      "\u001b[0;31m---------------------------------------------------------------------------\u001b[0m",
      "\u001b[0;31mAttributeError\u001b[0m                            Traceback (most recent call last)",
      "\u001b[0;32m/tmp/ipykernel_99065/32831057.py\u001b[0m in \u001b[0;36m<module>\u001b[0;34m\u001b[0m\n\u001b[1;32m     19\u001b[0m \u001b[0mprint\u001b[0m\u001b[0;34m(\u001b[0m\u001b[0mgetattr\u001b[0m\u001b[0;34m(\u001b[0m\u001b[0mgetattr1\u001b[0m\u001b[0;34m,\u001b[0m \u001b[0;34m'_GetAttr1__b'\u001b[0m\u001b[0;34m)\u001b[0m\u001b[0;34m)\u001b[0m \u001b[0;31m# access new name\u001b[0m\u001b[0;34m\u001b[0m\u001b[0;34m\u001b[0m\u001b[0m\n\u001b[1;32m     20\u001b[0m \u001b[0mprint\u001b[0m\u001b[0;34m(\u001b[0m\u001b[0mgetattr1\u001b[0m\u001b[0;34m.\u001b[0m\u001b[0mget_b\u001b[0m\u001b[0;34m(\u001b[0m\u001b[0;34m)\u001b[0m\u001b[0;34m)\u001b[0m \u001b[0;31m# through public getter\u001b[0m\u001b[0;34m\u001b[0m\u001b[0;34m\u001b[0m\u001b[0m\n\u001b[0;32m---> 21\u001b[0;31m \u001b[0mprint\u001b[0m\u001b[0;34m(\u001b[0m\u001b[0mgetattr\u001b[0m\u001b[0;34m(\u001b[0m\u001b[0mgetattr1\u001b[0m\u001b[0;34m,\u001b[0m \u001b[0;34m'__b'\u001b[0m\u001b[0;34m)\u001b[0m\u001b[0;34m)\u001b[0m \u001b[0;31m# but can't this way\u001b[0m\u001b[0;34m\u001b[0m\u001b[0;34m\u001b[0m\u001b[0m\n\u001b[0m",
      "\u001b[0;31mAttributeError\u001b[0m: 'GetAttr1' object has no attribute '__b'"
     ]
    }
   ],
   "metadata": {}
  },
  {
   "cell_type": "code",
   "execution_count": null,
   "source": [
    "# globals\n",
    "# Return a dictionary representing the current global symbol table.\n",
    "# This is always the dictionary of the current module (inside a function or method, \n",
    "# this is the module where it is defined, not the module from which it is called)\n",
    "\n",
    "print(type(globals()))\n",
    "print(globals()['getattr1']) # get variable in above cell"
   ],
   "outputs": [
    {
     "output_type": "stream",
     "name": "stdout",
     "text": [
      "<class 'dict'>\n",
      "<__main__.GetAttr1 object at 0x7f9ad8046610>\n"
     ]
    }
   ],
   "metadata": {}
  },
  {
   "cell_type": "code",
   "execution_count": null,
   "source": [
    "# hasattr\n",
    "# The arguments are an object and a string. The result is True if the string is the name of one of the object’s attributes, False if not.\n",
    "# (This is implemented by calling getattr(object, name) and seeing whether it raises an AttributeError or not.)\n",
    "\n",
    "print(hasattr(GetAttr1, 'get_b'))\n",
    "print(hasattr(getattr1, 'get_b'))\n",
    "print(hasattr(getattr1, 'a'))\n",
    "print(hasattr(getattr1, '_GetAttr1__b'))\n",
    "print(hasattr(getattr1, '__b')) # can not access, so return False\n"
   ],
   "outputs": [
    {
     "output_type": "stream",
     "name": "stdout",
     "text": [
      "True\n",
      "True\n",
      "True\n",
      "True\n",
      "False\n"
     ]
    }
   ],
   "metadata": {}
  },
  {
   "cell_type": "code",
   "execution_count": null,
   "source": [
    "# hash\n",
    "# Return the hash value of the object (if it has one). Hash values are integers.\n",
    "# They are used to quickly compare dictionary keys during a dictionary lookup. \n",
    "# Numeric values that compare equal have the same hash value (even if they are of different types, as is the case for 1 and 1.0).\n",
    "\n",
    "print(hash(getattr1))\n",
    "print(hash(1))\n",
    "print(hash(1.0))\n",
    "print(hash(1.000001))\n",
    "print(hash(\"hello world\"))\n",
    "print(hash(\"hello world\") == hash(\"hello world\"))\n",
    "# dict is complicated ordered key-values so can't be hashed\n",
    "print(hash(dict(a=1, b=2)))"
   ],
   "outputs": [
    {
     "output_type": "stream",
     "name": "stdout",
     "text": [
      "8768949427932\n",
      "1\n",
      "1\n",
      "2305843009025\n",
      "1868188293411504394\n",
      "True\n"
     ]
    },
    {
     "output_type": "error",
     "ename": "TypeError",
     "evalue": "unhashable type: 'dict'",
     "traceback": [
      "\u001b[0;31m---------------------------------------------------------------------------\u001b[0m",
      "\u001b[0;31mTypeError\u001b[0m                                 Traceback (most recent call last)",
      "\u001b[0;32m/tmp/ipykernel_96314/1561692039.py\u001b[0m in \u001b[0;36m<module>\u001b[0;34m\u001b[0m\n\u001b[1;32m     11\u001b[0m \u001b[0mprint\u001b[0m\u001b[0;34m(\u001b[0m\u001b[0mhash\u001b[0m\u001b[0;34m(\u001b[0m\u001b[0;34m\"hello world\"\u001b[0m\u001b[0;34m)\u001b[0m \u001b[0;34m==\u001b[0m \u001b[0mhash\u001b[0m\u001b[0;34m(\u001b[0m\u001b[0;34m\"hello world\"\u001b[0m\u001b[0;34m)\u001b[0m\u001b[0;34m)\u001b[0m\u001b[0;34m\u001b[0m\u001b[0;34m\u001b[0m\u001b[0m\n\u001b[1;32m     12\u001b[0m \u001b[0;31m# dict is complicated ordered key-values so can't be hashed\u001b[0m\u001b[0;34m\u001b[0m\u001b[0;34m\u001b[0m\u001b[0;34m\u001b[0m\u001b[0m\n\u001b[0;32m---> 13\u001b[0;31m \u001b[0mprint\u001b[0m\u001b[0;34m(\u001b[0m\u001b[0mhash\u001b[0m\u001b[0;34m(\u001b[0m\u001b[0mdict\u001b[0m\u001b[0;34m(\u001b[0m\u001b[0ma\u001b[0m\u001b[0;34m=\u001b[0m\u001b[0;36m1\u001b[0m\u001b[0;34m,\u001b[0m \u001b[0mb\u001b[0m\u001b[0;34m=\u001b[0m\u001b[0;36m2\u001b[0m\u001b[0;34m)\u001b[0m\u001b[0;34m)\u001b[0m\u001b[0;34m)\u001b[0m\u001b[0;34m\u001b[0m\u001b[0;34m\u001b[0m\u001b[0m\n\u001b[0m",
      "\u001b[0;31mTypeError\u001b[0m: unhashable type: 'dict'"
     ]
    }
   ],
   "metadata": {}
  },
  {
   "cell_type": "code",
   "execution_count": null,
   "source": [
    "# hex\n",
    "# Convert an integer number to a lowercase hexadecimal string prefixed with “0x”\n",
    "\n",
    "print(hex(123))\n",
    "print(hex(-53))"
   ],
   "outputs": [
    {
     "output_type": "stream",
     "name": "stdout",
     "text": [
      "0x7b\n",
      "-0x35\n"
     ]
    }
   ],
   "metadata": {}
  },
  {
   "cell_type": "code",
   "execution_count": 11,
   "source": [
    "# id\n",
    "# Return the “identity” of an object. This is an integer which is guaranteed to be unique and constant\n",
    "# for this object during its lifetime. Two objects with non-overlapping lifetimes may have the same id() value.\n",
    "# In CPython : This is the address of the object in memory.\n",
    "\n",
    "print(id(getattr1))\n",
    "print(id(123))\n",
    "print(id(GetAttr1))\n",
    "print(id(GetAttr1()))\n"
   ],
   "outputs": [
    {
     "output_type": "stream",
     "name": "stdout",
     "text": [
      "140139348414032\n",
      "9792512\n",
      "34533328\n",
      "140139347714976\n"
     ]
    }
   ],
   "metadata": {}
  },
  {
   "cell_type": "code",
   "execution_count": 13,
   "source": [
    "# input\n",
    "# If the prompt argument is present, it is written to standard output without a trailing newline.\n",
    "# The function then reads a line from input, converts it to a string (stripping a trailing newline), and returns that.\n",
    "\n",
    "print(input(\"Type you var value = \")) # In jupyter, it opens modal to ask value"
   ],
   "outputs": [
    {
     "output_type": "stream",
     "name": "stdout",
     "text": [
      "123\n"
     ]
    }
   ],
   "metadata": {}
  },
  {
   "cell_type": "code",
   "execution_count": 20,
   "source": [
    "# int\n",
    "# Return an integer object constructed from a number or string x, or return 0 if no arguments are given\n",
    "\n",
    "print(int('-123'))\n",
    "print(int('12312'))\n",
    "print(int('011', base=2))\n",
    "print(int('071', base=8))\n",
    "print(int('0xfe', base=16))"
   ],
   "outputs": [
    {
     "output_type": "stream",
     "name": "stdout",
     "text": [
      "-123\n",
      "12312\n",
      "3\n",
      "57\n",
      "254\n"
     ]
    }
   ],
   "metadata": {}
  }
 ],
 "metadata": {
  "orig_nbformat": 4,
  "language_info": {
   "name": "python",
   "version": "3.8.10",
   "mimetype": "text/x-python",
   "codemirror_mode": {
    "name": "ipython",
    "version": 3
   },
   "pygments_lexer": "ipython3",
   "nbconvert_exporter": "python",
   "file_extension": ".py"
  },
  "kernelspec": {
   "name": "python3",
   "display_name": "Python 3.8.10 64-bit ('learn-python-intermediate-3UIPR_d7-py3.8': venv)"
  },
  "interpreter": {
   "hash": "53aa44ee5584dab98f6f010b7ab9d1d2a77a8f1eacf1414f0e965eca9f69a232"
  }
 },
 "nbformat": 4,
 "nbformat_minor": 2
}