{
 "cells": [
  {
   "cell_type": "markdown",
   "source": [
    "## BUILT-IN FUNCTIONS - Part 2"
   ],
   "metadata": {}
  },
  {
   "cell_type": "code",
   "execution_count": 14,
   "source": [
    "# float\n",
    "# Return a floating point number constructed from a number or string x\n",
    "\n",
    "class Float1:\n",
    "    def __index__(self):\n",
    "        return 123\n",
    "\n",
    "    def __float__(self):\n",
    "        return -13579.2468\n",
    "\n",
    "class Float2:\n",
    "    def __index__(self):\n",
    "        return 234\n",
    "\n",
    "print(float(123))\n",
    "print(float(123.456))\n",
    "print(float('-123.456'))\n",
    "print(float('    -123.456'))\n",
    "print(float('-0.4E7'))\n",
    "print(float(Float1()))\n",
    "print(float(Float2()))\n",
    "print(float('-Infinity'))\n",
    "print(float('-Infinity')+float('+Infinity')) # = 0 ? LOL !!"
   ],
   "outputs": [
    {
     "output_type": "stream",
     "name": "stdout",
     "text": [
      "123.0\n",
      "123.456\n",
      "-123.456\n",
      "-123.456\n",
      "-4000000.0\n",
      "-13579.2468\n",
      "234.0\n",
      "-inf\n",
      "nan\n"
     ]
    }
   ],
   "metadata": {}
  },
  {
   "cell_type": "code",
   "execution_count": 15,
   "source": [
    "# getattr\n",
    "# getattr(object, name[, default])\n",
    "# Return the value of the named attribute of object. name must be a string.\n",
    "# If the string is the name of one of the object’s attributes, the result is the value of that attribute\n",
    "\n",
    "class GetAttr1:\n",
    "    def __init__(self) -> None:\n",
    "        self.a = 123\n",
    "        self.__b = 678 # private-name-mangling , this attr only access in the class, not public with new name _[ClassName]__[var]\n",
    "    \n",
    "    def get_b(self):\n",
    "        return self.__b\n",
    "\n",
    "float1_func = getattr(Float1, '__float__')\n",
    "print(float1_func('anything'))\n",
    "\n",
    "getattr1 = GetAttr1()\n",
    "print(getattr(getattr1, 'a'))\n",
    "print(getattr(getattr1, '_GetAttr1__b')) # access new name\n",
    "print(getattr1.get_b()) # through public getter\n",
    "print(getattr(getattr1, '__b')) # but can't this way\n"
   ],
   "outputs": [
    {
     "output_type": "stream",
     "name": "stdout",
     "text": [
      "-13579.2468\n",
      "123\n",
      "678\n",
      "678\n"
     ]
    },
    {
     "output_type": "error",
     "ename": "AttributeError",
     "evalue": "'GetAttr1' object has no attribute '__b'",
     "traceback": [
      "\u001b[0;31m---------------------------------------------------------------------------\u001b[0m",
      "\u001b[0;31mAttributeError\u001b[0m                            Traceback (most recent call last)",
      "\u001b[0;32m/tmp/ipykernel_18977/32831057.py\u001b[0m in \u001b[0;36m<module>\u001b[0;34m\u001b[0m\n\u001b[1;32m     19\u001b[0m \u001b[0mprint\u001b[0m\u001b[0;34m(\u001b[0m\u001b[0mgetattr\u001b[0m\u001b[0;34m(\u001b[0m\u001b[0mgetattr1\u001b[0m\u001b[0;34m,\u001b[0m \u001b[0;34m'_GetAttr1__b'\u001b[0m\u001b[0;34m)\u001b[0m\u001b[0;34m)\u001b[0m \u001b[0;31m# access new name\u001b[0m\u001b[0;34m\u001b[0m\u001b[0;34m\u001b[0m\u001b[0m\n\u001b[1;32m     20\u001b[0m \u001b[0mprint\u001b[0m\u001b[0;34m(\u001b[0m\u001b[0mgetattr1\u001b[0m\u001b[0;34m.\u001b[0m\u001b[0mget_b\u001b[0m\u001b[0;34m(\u001b[0m\u001b[0;34m)\u001b[0m\u001b[0;34m)\u001b[0m \u001b[0;31m# through public getter\u001b[0m\u001b[0;34m\u001b[0m\u001b[0;34m\u001b[0m\u001b[0m\n\u001b[0;32m---> 21\u001b[0;31m \u001b[0mprint\u001b[0m\u001b[0;34m(\u001b[0m\u001b[0mgetattr\u001b[0m\u001b[0;34m(\u001b[0m\u001b[0mgetattr1\u001b[0m\u001b[0;34m,\u001b[0m \u001b[0;34m'__b'\u001b[0m\u001b[0;34m)\u001b[0m\u001b[0;34m)\u001b[0m \u001b[0;31m# but can't this way\u001b[0m\u001b[0;34m\u001b[0m\u001b[0;34m\u001b[0m\u001b[0m\n\u001b[0m",
      "\u001b[0;31mAttributeError\u001b[0m: 'GetAttr1' object has no attribute '__b'"
     ]
    }
   ],
   "metadata": {}
  },
  {
   "cell_type": "code",
   "execution_count": null,
   "source": [
    "# globals\n",
    "# Return a dictionary representing the current global symbol table.\n",
    "# This is always the dictionary of the current module (inside a function or method, \n",
    "# this is the module where it is defined, not the module from which it is called)\n",
    "\n",
    "print(type(globals()))\n",
    "print(globals()['getattr1']) # get variable in above cell"
   ],
   "outputs": [
    {
     "output_type": "stream",
     "name": "stdout",
     "text": [
      "<class 'dict'>\n",
      "<__main__.GetAttr1 object at 0x7f9ad8046610>\n"
     ]
    }
   ],
   "metadata": {}
  },
  {
   "cell_type": "code",
   "execution_count": null,
   "source": [
    "# hasattr\n",
    "# The arguments are an object and a string. The result is True if the string is the name of one of the object’s attributes, False if not.\n",
    "# (This is implemented by calling getattr(object, name) and seeing whether it raises an AttributeError or not.)\n",
    "\n",
    "print(hasattr(GetAttr1, 'get_b'))\n",
    "print(hasattr(getattr1, 'get_b'))\n",
    "print(hasattr(getattr1, 'a'))\n",
    "print(hasattr(getattr1, '_GetAttr1__b'))\n",
    "print(hasattr(getattr1, '__b')) # can not access, so return False\n"
   ],
   "outputs": [
    {
     "output_type": "stream",
     "name": "stdout",
     "text": [
      "True\n",
      "True\n",
      "True\n",
      "True\n",
      "False\n"
     ]
    }
   ],
   "metadata": {}
  },
  {
   "cell_type": "code",
   "execution_count": null,
   "source": [
    "# hash\n",
    "# Return the hash value of the object (if it has one). Hash values are integers.\n",
    "# They are used to quickly compare dictionary keys during a dictionary lookup. \n",
    "# Numeric values that compare equal have the same hash value (even if they are of different types, as is the case for 1 and 1.0).\n",
    "\n",
    "print(hash(getattr1))\n",
    "print(hash(1))\n",
    "print(hash(1.0))\n",
    "print(hash(1.000001))\n",
    "print(hash(\"hello world\"))\n",
    "print(hash(\"hello world\") == hash(\"hello world\"))\n",
    "# dict is complicated ordered key-values so can't be hashed\n",
    "print(hash(dict(a=1, b=2)))"
   ],
   "outputs": [
    {
     "output_type": "stream",
     "name": "stdout",
     "text": [
      "8768949427932\n",
      "1\n",
      "1\n",
      "2305843009025\n",
      "1868188293411504394\n",
      "True\n"
     ]
    },
    {
     "output_type": "error",
     "ename": "TypeError",
     "evalue": "unhashable type: 'dict'",
     "traceback": [
      "\u001b[0;31m---------------------------------------------------------------------------\u001b[0m",
      "\u001b[0;31mTypeError\u001b[0m                                 Traceback (most recent call last)",
      "\u001b[0;32m/tmp/ipykernel_96314/1561692039.py\u001b[0m in \u001b[0;36m<module>\u001b[0;34m\u001b[0m\n\u001b[1;32m     11\u001b[0m \u001b[0mprint\u001b[0m\u001b[0;34m(\u001b[0m\u001b[0mhash\u001b[0m\u001b[0;34m(\u001b[0m\u001b[0;34m\"hello world\"\u001b[0m\u001b[0;34m)\u001b[0m \u001b[0;34m==\u001b[0m \u001b[0mhash\u001b[0m\u001b[0;34m(\u001b[0m\u001b[0;34m\"hello world\"\u001b[0m\u001b[0;34m)\u001b[0m\u001b[0;34m)\u001b[0m\u001b[0;34m\u001b[0m\u001b[0;34m\u001b[0m\u001b[0m\n\u001b[1;32m     12\u001b[0m \u001b[0;31m# dict is complicated ordered key-values so can't be hashed\u001b[0m\u001b[0;34m\u001b[0m\u001b[0;34m\u001b[0m\u001b[0;34m\u001b[0m\u001b[0m\n\u001b[0;32m---> 13\u001b[0;31m \u001b[0mprint\u001b[0m\u001b[0;34m(\u001b[0m\u001b[0mhash\u001b[0m\u001b[0;34m(\u001b[0m\u001b[0mdict\u001b[0m\u001b[0;34m(\u001b[0m\u001b[0ma\u001b[0m\u001b[0;34m=\u001b[0m\u001b[0;36m1\u001b[0m\u001b[0;34m,\u001b[0m \u001b[0mb\u001b[0m\u001b[0;34m=\u001b[0m\u001b[0;36m2\u001b[0m\u001b[0;34m)\u001b[0m\u001b[0;34m)\u001b[0m\u001b[0;34m)\u001b[0m\u001b[0;34m\u001b[0m\u001b[0;34m\u001b[0m\u001b[0m\n\u001b[0m",
      "\u001b[0;31mTypeError\u001b[0m: unhashable type: 'dict'"
     ]
    }
   ],
   "metadata": {}
  },
  {
   "cell_type": "code",
   "execution_count": null,
   "source": [
    "# hex\n",
    "# Convert an integer number to a lowercase hexadecimal string prefixed with “0x”\n",
    "\n",
    "print(hex(123))\n",
    "print(hex(-53))"
   ],
   "outputs": [
    {
     "output_type": "stream",
     "name": "stdout",
     "text": [
      "0x7b\n",
      "-0x35\n"
     ]
    }
   ],
   "metadata": {}
  },
  {
   "cell_type": "code",
   "execution_count": null,
   "source": [
    "# id\n",
    "# Return the “identity” of an object. This is an integer which is guaranteed to be unique and constant\n",
    "# for this object during its lifetime. Two objects with non-overlapping lifetimes may have the same id() value.\n",
    "# In CPython : This is the address of the object in memory.\n",
    "\n",
    "print(id(getattr1))\n",
    "print(id(123))\n",
    "print(id(GetAttr1))\n",
    "print(id(GetAttr1()))\n"
   ],
   "outputs": [
    {
     "output_type": "stream",
     "name": "stdout",
     "text": [
      "140139348414032\n",
      "9792512\n",
      "34533328\n",
      "140139347714976\n"
     ]
    }
   ],
   "metadata": {}
  },
  {
   "cell_type": "code",
   "execution_count": null,
   "source": [
    "# input\n",
    "# If the prompt argument is present, it is written to standard output without a trailing newline.\n",
    "# The function then reads a line from input, converts it to a string (stripping a trailing newline), and returns that.\n",
    "\n",
    "print(input(\"Type you var value = \")) # In jupyter, it opens modal to ask value"
   ],
   "outputs": [
    {
     "output_type": "stream",
     "name": "stdout",
     "text": [
      "123\n"
     ]
    }
   ],
   "metadata": {}
  },
  {
   "cell_type": "code",
   "execution_count": null,
   "source": [
    "# int\n",
    "# Return an integer object constructed from a number or string x, or return 0 if no arguments are given\n",
    "\n",
    "print(int('-123'))\n",
    "print(int('12312'))\n",
    "print(int('011', base=2))\n",
    "print(int('071', base=8))\n",
    "print(int('0xfe', base=16))"
   ],
   "outputs": [
    {
     "output_type": "stream",
     "name": "stdout",
     "text": [
      "-123\n",
      "12312\n",
      "3\n",
      "57\n",
      "254\n"
     ]
    }
   ],
   "metadata": {}
  },
  {
   "cell_type": "code",
   "execution_count": null,
   "source": [
    "# isinstance\n",
    "# isinstance(object, classinfo)\n",
    "# Return True if the object argument is an instance of the classinfo argument, \n",
    "# or of a (direct, indirect or virtual) subclass thereof. If object is not an object of the given type,\n",
    "# the function always returns False. If classinfo is a tuple of type objects (or recursively, other such tuples),\n",
    "# return True if object is an instance of any of the types.\n",
    "# If classinfo is not a type or tuple of types and such tuples, a TypeError exception is raised.\n",
    "\n",
    "print(isinstance(getattr1, GetAttr1))\n",
    "print(isinstance(getattr1, (Float1, Float2, GetAttr1)))\n",
    "print(isinstance(True, bool))\n",
    "print(isinstance(True, type(False)))\n",
    "print(isinstance(True, True))"
   ],
   "outputs": [
    {
     "output_type": "stream",
     "name": "stdout",
     "text": [
      "True\n",
      "True\n",
      "True\n",
      "True\n"
     ]
    },
    {
     "output_type": "error",
     "ename": "TypeError",
     "evalue": "isinstance() arg 2 must be a type or tuple of types",
     "traceback": [
      "\u001b[0;31m---------------------------------------------------------------------------\u001b[0m",
      "\u001b[0;31mTypeError\u001b[0m                                 Traceback (most recent call last)",
      "\u001b[0;32m/tmp/ipykernel_18977/2613501035.py\u001b[0m in \u001b[0;36m<module>\u001b[0;34m\u001b[0m\n\u001b[1;32m     11\u001b[0m \u001b[0mprint\u001b[0m\u001b[0;34m(\u001b[0m\u001b[0misinstance\u001b[0m\u001b[0;34m(\u001b[0m\u001b[0;32mTrue\u001b[0m\u001b[0;34m,\u001b[0m \u001b[0mbool\u001b[0m\u001b[0;34m)\u001b[0m\u001b[0;34m)\u001b[0m\u001b[0;34m\u001b[0m\u001b[0;34m\u001b[0m\u001b[0m\n\u001b[1;32m     12\u001b[0m \u001b[0mprint\u001b[0m\u001b[0;34m(\u001b[0m\u001b[0misinstance\u001b[0m\u001b[0;34m(\u001b[0m\u001b[0;32mTrue\u001b[0m\u001b[0;34m,\u001b[0m \u001b[0mtype\u001b[0m\u001b[0;34m(\u001b[0m\u001b[0;32mFalse\u001b[0m\u001b[0;34m)\u001b[0m\u001b[0;34m)\u001b[0m\u001b[0;34m)\u001b[0m\u001b[0;34m\u001b[0m\u001b[0;34m\u001b[0m\u001b[0m\n\u001b[0;32m---> 13\u001b[0;31m \u001b[0mprint\u001b[0m\u001b[0;34m(\u001b[0m\u001b[0misinstance\u001b[0m\u001b[0;34m(\u001b[0m\u001b[0;32mTrue\u001b[0m\u001b[0;34m,\u001b[0m \u001b[0;32mTrue\u001b[0m\u001b[0;34m)\u001b[0m\u001b[0;34m)\u001b[0m\u001b[0;34m\u001b[0m\u001b[0;34m\u001b[0m\u001b[0m\n\u001b[0m",
      "\u001b[0;31mTypeError\u001b[0m: isinstance() arg 2 must be a type or tuple of types"
     ]
    }
   ],
   "metadata": {}
  },
  {
   "cell_type": "code",
   "execution_count": null,
   "source": [
    "# issubclass\n",
    "# issubclass(class, classinfo)\n",
    "# Return True if class is a subclass (direct, indirect or virtual) of classinfo. \n",
    "# A class is considered a subclass of itself. classinfo may be a tuple of class objects, \n",
    "# in which case return True if class is a subclass of any entry in classinfo. \n",
    "# In any other case, a TypeError exception is raised.\n",
    "\n",
    "class Float3(Float1):\n",
    "    pass\n",
    "\n",
    "print(issubclass(Float3, Float1))\n",
    "print(issubclass(Float3, Float2))\n",
    "print(issubclass(Float3, (Float2, Float1)))\n",
    "print(issubclass(Float3, type))"
   ],
   "outputs": [
    {
     "output_type": "stream",
     "name": "stdout",
     "text": [
      "True\n",
      "False\n",
      "True\n",
      "False\n"
     ]
    }
   ],
   "metadata": {}
  },
  {
   "cell_type": "code",
   "execution_count": 3,
   "source": [
    "# iter\n",
    "# iter(object[, sentinel])\n",
    "\n",
    "iter_lst1 = [1, 2, 3]\n",
    "\n",
    "print(iter(iter_lst1))\n",
    "print(tuple(iter(iter_lst1))) # convert interator to tuple or list\n",
    "\n",
    "# with sentinel , if next item equals sentinel , StopIteration will be raised to stop\n",
    "\n",
    "class Iter1:\n",
    "    def __init__(self):\n",
    "        self.count = 0\n",
    "  \n",
    "    def __call__(self):\n",
    "        self.count = self.count + 1\n",
    "        return self.count\n",
    "\n",
    "iter_obj1 = Iter1()\n",
    "print(dir(iter_obj1))\n",
    "print(list(iter(iter_obj1, 10)))\n",
    "\n",
    "iter_obj2 = Iter1()\n",
    "for iter_val2 in iter(iter_obj2, 5):\n",
    "    print(iter_val2)"
   ],
   "outputs": [
    {
     "output_type": "stream",
     "name": "stdout",
     "text": [
      "<list_iterator object at 0x7f4f25bbd4c0>\n",
      "(1, 2, 3)\n",
      "['__call__', '__class__', '__delattr__', '__dict__', '__dir__', '__doc__', '__eq__', '__format__', '__ge__', '__getattribute__', '__gt__', '__hash__', '__init__', '__init_subclass__', '__le__', '__lt__', '__module__', '__ne__', '__new__', '__reduce__', '__reduce_ex__', '__repr__', '__setattr__', '__sizeof__', '__str__', '__subclasshook__', '__weakref__', 'count']\n",
      "[1, 2, 3, 4, 5, 6, 7, 8, 9]\n",
      "1\n",
      "2\n",
      "3\n",
      "4\n"
     ]
    }
   ],
   "metadata": {}
  },
  {
   "cell_type": "code",
   "execution_count": 15,
   "source": [
    "# len\n",
    "# Return the length (the number of items) of an object. The argument may be a sequence (such as a string, bytes, tuple, list, or range) \n",
    "# or a collection (such as a dictionary, set, or frozen set).\n",
    "\n",
    "print(len(\"123 456 789\"))\n",
    "print(len(\"Tiếng Việt\")) # unicode => not len of bytes\n",
    "print(len([3, 2 , 1]))\n",
    "print(len((3, 2 , 1)))\n",
    "print(len(range(0, 10)))\n",
    "print(len({\"a\": 1, \"b\": 2, \"c\": { \"x\": 1, \"y\": 3 }})) # first level keys\n",
    "print(len({1, 2, 3}))"
   ],
   "outputs": [
    {
     "output_type": "stream",
     "name": "stdout",
     "text": [
      "11\n",
      "10\n",
      "3\n",
      "3\n",
      "10\n",
      "3\n",
      "3\n"
     ]
    }
   ],
   "metadata": {}
  },
  {
   "cell_type": "code",
   "execution_count": 19,
   "source": [
    "# list\n",
    "# list([iterable])\n",
    "# Rather than being a function, list is actually a mutable sequence type\n",
    "\n",
    "print(list(\"123\"))\n",
    "print(list(iter(Iter1(), 10)))"
   ],
   "outputs": [
    {
     "output_type": "stream",
     "name": "stdout",
     "text": [
      "['1', '2', '3']\n",
      "[1, 2, 3, 4, 5, 6, 7, 8, 9]\n"
     ]
    }
   ],
   "metadata": {}
  },
  {
   "cell_type": "code",
   "execution_count": 31,
   "source": [
    "# map\n",
    "# map(function, iterable, ...)\n",
    "# Return an iterator that applies function to every item of iterable, yielding the results\n",
    "\n",
    "map_lst1 = list(range(1, 10))\n",
    "print(map_lst1)\n",
    "\n",
    "# Btw, just for lab, should not write 3 lambdas in 1 line\n",
    "map1 = map(lambda x: x * 2, map(lambda y: y + 1, filter(lambda z: z % 2 == 0, map_lst1))) # each iter cycle run from inside to outside => filter even => +1 => * 2\n",
    "print(list(map1))\n",
    "\n",
    "# run 1 lambda parallel with multi parameters\n",
    "def map_lambda_multi1(x, y):\n",
    "    return x + y\n",
    "\n",
    "map2 = map(map_lambda_multi1, [1, 2, 3], [100, 200, 300])\n",
    "print(list(map2))"
   ],
   "outputs": [
    {
     "output_type": "stream",
     "name": "stdout",
     "text": [
      "[1, 2, 3, 4, 5, 6, 7, 8, 9]\n",
      "[6, 10, 14, 18]\n",
      "[101, 202, 303]\n"
     ]
    }
   ],
   "metadata": {}
  },
  {
   "cell_type": "code",
   "execution_count": 39,
   "source": [
    "# max\n",
    "# max(iterable, *[, key, default])\n",
    "# max(arg1, arg2, *args[, key])\n",
    "# Return the largest item in an iterable or the largest of two or more arguments.\n",
    "\n",
    "print(max(map_lst1))\n",
    "print(max(8, 5, 100, 9))\n",
    "\n",
    "# with key\n",
    "max_lists = [{\"num\": x} for x in range(0, 10)]\n",
    "print(max_lists)\n",
    "print(max(max_lists, key=lambda x: x['num']))\n",
    "\n",
    "# max of empty\n",
    "print(max([])) # ValueError"
   ],
   "outputs": [
    {
     "output_type": "stream",
     "name": "stdout",
     "text": [
      "9\n",
      "100\n",
      "[{'num': 0}, {'num': 1}, {'num': 2}, {'num': 3}, {'num': 4}, {'num': 5}, {'num': 6}, {'num': 7}, {'num': 8}, {'num': 9}]\n",
      "{'num': 9}\n"
     ]
    },
    {
     "output_type": "error",
     "ename": "ValueError",
     "evalue": "max() arg is an empty sequence",
     "traceback": [
      "\u001b[0;31m---------------------------------------------------------------------------\u001b[0m",
      "\u001b[0;31mValueError\u001b[0m                                Traceback (most recent call last)",
      "\u001b[0;32m/tmp/ipykernel_18982/1763660638.py\u001b[0m in \u001b[0;36m<module>\u001b[0;34m\u001b[0m\n\u001b[1;32m     13\u001b[0m \u001b[0;34m\u001b[0m\u001b[0m\n\u001b[1;32m     14\u001b[0m \u001b[0;31m# max of empty\u001b[0m\u001b[0;34m\u001b[0m\u001b[0;34m\u001b[0m\u001b[0;34m\u001b[0m\u001b[0m\n\u001b[0;32m---> 15\u001b[0;31m \u001b[0mprint\u001b[0m\u001b[0;34m(\u001b[0m\u001b[0mmax\u001b[0m\u001b[0;34m(\u001b[0m\u001b[0;34m[\u001b[0m\u001b[0;34m]\u001b[0m\u001b[0;34m)\u001b[0m\u001b[0;34m)\u001b[0m \u001b[0;31m# ValueError\u001b[0m\u001b[0;34m\u001b[0m\u001b[0;34m\u001b[0m\u001b[0m\n\u001b[0m",
      "\u001b[0;31mValueError\u001b[0m: max() arg is an empty sequence"
     ]
    }
   ],
   "metadata": {}
  },
  {
   "cell_type": "code",
   "execution_count": 41,
   "source": [
    "# min\n",
    "# Opposite of above max\n",
    "\n",
    "print(min(map_lst1))\n",
    "print(min(8, 5, 100, 9))\n",
    "\n",
    "# with key\n",
    "min_lists = [{\"num\": x} for x in range(0, 10)]\n",
    "print(min_lists)\n",
    "print(min(min_lists, key=lambda x: x['num']))\n",
    "\n",
    "# min of empty\n",
    "print(min([])) # ValueError"
   ],
   "outputs": [
    {
     "output_type": "stream",
     "name": "stdout",
     "text": [
      "1\n",
      "5\n",
      "[{'num': 0}, {'num': 1}, {'num': 2}, {'num': 3}, {'num': 4}, {'num': 5}, {'num': 6}, {'num': 7}, {'num': 8}, {'num': 9}]\n",
      "{'num': 0}\n"
     ]
    },
    {
     "output_type": "error",
     "ename": "ValueError",
     "evalue": "min() arg is an empty sequence",
     "traceback": [
      "\u001b[0;31m---------------------------------------------------------------------------\u001b[0m",
      "\u001b[0;31mValueError\u001b[0m                                Traceback (most recent call last)",
      "\u001b[0;32m/tmp/ipykernel_18982/3882254043.py\u001b[0m in \u001b[0;36m<module>\u001b[0;34m\u001b[0m\n\u001b[1;32m     11\u001b[0m \u001b[0;34m\u001b[0m\u001b[0m\n\u001b[1;32m     12\u001b[0m \u001b[0;31m# min of empty\u001b[0m\u001b[0;34m\u001b[0m\u001b[0;34m\u001b[0m\u001b[0;34m\u001b[0m\u001b[0m\n\u001b[0;32m---> 13\u001b[0;31m \u001b[0mprint\u001b[0m\u001b[0;34m(\u001b[0m\u001b[0mmin\u001b[0m\u001b[0;34m(\u001b[0m\u001b[0;34m[\u001b[0m\u001b[0;34m]\u001b[0m\u001b[0;34m)\u001b[0m\u001b[0;34m)\u001b[0m \u001b[0;31m# ValueError\u001b[0m\u001b[0;34m\u001b[0m\u001b[0;34m\u001b[0m\u001b[0m\n\u001b[0m",
      "\u001b[0;31mValueError\u001b[0m: min() arg is an empty sequence"
     ]
    }
   ],
   "metadata": {}
  },
  {
   "cell_type": "code",
   "execution_count": 51,
   "source": [
    "# next\n",
    "# Retrieve the next item from the iterator by calling its __next__() method. \n",
    "# If default is given, it is returned if the iterator is exhausted, otherwise StopIteration is raised.\n",
    "\n",
    "iter_next1 = map(lambda x: x * 2, map_lst1)\n",
    "print(next(iter_next1)) # get first item out\n",
    "make_list_from_next = [next(iter_next1) for i in range(0, 3)]\n",
    "print(make_list_from_next)\n",
    "\n",
    "make_list_from_next = [next(iter_next1) for i in range(0, 100)] # StopIteration is raised"
   ],
   "outputs": [
    {
     "output_type": "stream",
     "name": "stdout",
     "text": [
      "2\n",
      "[4, 6, 8]\n"
     ]
    },
    {
     "output_type": "error",
     "ename": "StopIteration",
     "evalue": "",
     "traceback": [
      "\u001b[0;31m---------------------------------------------------------------------------\u001b[0m",
      "\u001b[0;31mStopIteration\u001b[0m                             Traceback (most recent call last)",
      "\u001b[0;32m/tmp/ipykernel_18982/2536393539.py\u001b[0m in \u001b[0;36m<module>\u001b[0;34m\u001b[0m\n\u001b[1;32m      8\u001b[0m \u001b[0mprint\u001b[0m\u001b[0;34m(\u001b[0m\u001b[0mmake_list_from_next\u001b[0m\u001b[0;34m)\u001b[0m\u001b[0;34m\u001b[0m\u001b[0;34m\u001b[0m\u001b[0m\n\u001b[1;32m      9\u001b[0m \u001b[0;34m\u001b[0m\u001b[0m\n\u001b[0;32m---> 10\u001b[0;31m \u001b[0mmake_list_from_next\u001b[0m \u001b[0;34m=\u001b[0m \u001b[0;34m[\u001b[0m\u001b[0mnext\u001b[0m\u001b[0;34m(\u001b[0m\u001b[0miter_next1\u001b[0m\u001b[0;34m)\u001b[0m \u001b[0;32mfor\u001b[0m \u001b[0mi\u001b[0m \u001b[0;32min\u001b[0m \u001b[0mrange\u001b[0m\u001b[0;34m(\u001b[0m\u001b[0;36m0\u001b[0m\u001b[0;34m,\u001b[0m \u001b[0;36m100\u001b[0m\u001b[0;34m)\u001b[0m\u001b[0;34m]\u001b[0m \u001b[0;31m# StopIteration is raised\u001b[0m\u001b[0;34m\u001b[0m\u001b[0;34m\u001b[0m\u001b[0m\n\u001b[0m",
      "\u001b[0;32m/tmp/ipykernel_18982/2536393539.py\u001b[0m in \u001b[0;36m<listcomp>\u001b[0;34m(.0)\u001b[0m\n\u001b[1;32m      8\u001b[0m \u001b[0mprint\u001b[0m\u001b[0;34m(\u001b[0m\u001b[0mmake_list_from_next\u001b[0m\u001b[0;34m)\u001b[0m\u001b[0;34m\u001b[0m\u001b[0;34m\u001b[0m\u001b[0m\n\u001b[1;32m      9\u001b[0m \u001b[0;34m\u001b[0m\u001b[0m\n\u001b[0;32m---> 10\u001b[0;31m \u001b[0mmake_list_from_next\u001b[0m \u001b[0;34m=\u001b[0m \u001b[0;34m[\u001b[0m\u001b[0mnext\u001b[0m\u001b[0;34m(\u001b[0m\u001b[0miter_next1\u001b[0m\u001b[0;34m)\u001b[0m \u001b[0;32mfor\u001b[0m \u001b[0mi\u001b[0m \u001b[0;32min\u001b[0m \u001b[0mrange\u001b[0m\u001b[0;34m(\u001b[0m\u001b[0;36m0\u001b[0m\u001b[0;34m,\u001b[0m \u001b[0;36m100\u001b[0m\u001b[0;34m)\u001b[0m\u001b[0;34m]\u001b[0m \u001b[0;31m# StopIteration is raised\u001b[0m\u001b[0;34m\u001b[0m\u001b[0;34m\u001b[0m\u001b[0m\n\u001b[0m",
      "\u001b[0;31mStopIteration\u001b[0m: "
     ]
    }
   ],
   "metadata": {}
  }
 ],
 "metadata": {
  "orig_nbformat": 4,
  "language_info": {
   "name": "python",
   "version": "3.8.10",
   "mimetype": "text/x-python",
   "codemirror_mode": {
    "name": "ipython",
    "version": 3
   },
   "pygments_lexer": "ipython3",
   "nbconvert_exporter": "python",
   "file_extension": ".py"
  },
  "kernelspec": {
   "name": "python3",
   "display_name": "Python 3.8.10 64-bit ('learn-python-intermediate-3UIPR_d7-py3.8': venv)"
  },
  "interpreter": {
   "hash": "53aa44ee5584dab98f6f010b7ab9d1d2a77a8f1eacf1414f0e965eca9f69a232"
  }
 },
 "nbformat": 4,
 "nbformat_minor": 2
}