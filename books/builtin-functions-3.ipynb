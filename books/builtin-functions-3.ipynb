{
 "cells": [
  {
   "cell_type": "markdown",
   "source": [
    "## BUILT-IN FUNCTIONS - Part 3"
   ],
   "metadata": {}
  },
  {
   "cell_type": "code",
   "execution_count": 106,
   "source": [
    "# oct \n",
    "# oct(x : integer)\n",
    "# Convert an integer number to an octal string prefixed with “0o”. The result is a valid Python expression.\n",
    "# If x is not a Python int object, it has to define an __index__() method that returns an integer\n",
    "\n",
    "class Oct1:\n",
    "    def __index__(self):\n",
    "        return 42\n",
    "\n",
    "print(oct(123456))\n",
    "print(oct(-123))\n",
    "print(oct(Oct1()))"
   ],
   "outputs": [
    {
     "output_type": "stream",
     "name": "stdout",
     "text": [
      "0o361100\n",
      "-0o173\n",
      "0o52\n"
     ]
    }
   ],
   "metadata": {}
  },
  {
   "cell_type": "code",
   "execution_count": 107,
   "source": [
    "# ord\n",
    "# Given a string representing one Unicode character, return an integer representing the Unicode code point of that character.\n",
    "\n",
    "print(ord('A'))\n",
    "print(ord('0'))\n",
    "print(ord('ạ'))"
   ],
   "outputs": [
    {
     "output_type": "stream",
     "name": "stdout",
     "text": [
      "65\n",
      "48\n",
      "7841\n"
     ]
    }
   ],
   "metadata": {}
  },
  {
   "cell_type": "code",
   "execution_count": 108,
   "source": [
    "# pow\n",
    "# pow(base, exp[, mod])\n",
    "# Return base to the power exp;\n",
    "# if mod is present, return base to the power exp, modulo mod (computed more efficiently than pow(base, exp) % mod).\n",
    "# The two-argument form pow(base, exp) is equivalent to using the power operator: base**exp\n",
    "\n",
    "# just a util to measure time to excute code\n",
    "from codetiming import Timer\n",
    "\n",
    "print(pow(2, 10))\n",
    "\n",
    "# normal way\n",
    "with Timer(name=\"context manager\"):\n",
    "    print(pow(2, 10000000) % 9)\n",
    "\n",
    "# https://en.wikipedia.org/wiki/Modular_exponentiation\n",
    "with Timer(name=\"context manager\"):\n",
    "    print(pow(2, 10000000, 9))\n"
   ],
   "outputs": [
    {
     "output_type": "stream",
     "name": "stdout",
     "text": [
      "1024\n",
      "7\n",
      "Elapsed time: 0.0292 seconds\n",
      "7\n",
      "Elapsed time: 0.0000 seconds\n"
     ]
    }
   ],
   "metadata": {}
  },
  {
   "cell_type": "code",
   "execution_count": 109,
   "source": [
    "# print\n",
    "# print(*objects, sep=' ', end='\\n', file=sys.stdout, flush=False)\n",
    "\n",
    "print(123, 456, 789, sep='||')\n",
    "\n",
    "print(123, end='||')\n",
    "print(456)"
   ],
   "outputs": [
    {
     "output_type": "stream",
     "name": "stdout",
     "text": [
      "123||456||789\n",
      "123||456\n"
     ]
    }
   ],
   "metadata": {}
  },
  {
   "cell_type": "code",
   "execution_count": 110,
   "source": [
    "# property\n",
    "# property(fget=None, fset=None, fdel=None, doc=None)\n",
    "\n",
    "prop1 = property()\n",
    "\n",
    "print(dir(prop1)) # deleter, getter, setter is decorator function for class declare\n",
    "\n",
    "print(\"===== Using in class declaration\")\n",
    "\n",
    "class Prop2:\n",
    "    def __init__(self):\n",
    "        self._x = None\n",
    "\n",
    "    def getx(self):\n",
    "        return self._x\n",
    "\n",
    "    def setx(self, value):\n",
    "        self._x = value\n",
    "\n",
    "    def delx(self):\n",
    "        del self._x\n",
    "    \n",
    "    x = property(getx, setx, delx)\n",
    "\n",
    "prop2 = Prop2()\n",
    "prop2.x = 123\n",
    "print(prop2.x)\n",
    "\n",
    "class Prop3:\n",
    "    def __init__(self):\n",
    "        self._x = None\n",
    "\n",
    "    @property\n",
    "    def x(self):\n",
    "        return self._x\n",
    "\n",
    "    @x.setter\n",
    "    def x(self, value):\n",
    "        self._x = value\n",
    "\n",
    "    @x.deleter\n",
    "    def delx(self):\n",
    "        del self._x\n",
    "\n",
    "prop3 = Prop3()\n",
    "prop3.x = 456\n",
    "print(prop3.x)\n"
   ],
   "outputs": [
    {
     "output_type": "stream",
     "name": "stdout",
     "text": [
      "['__class__', '__delattr__', '__delete__', '__dir__', '__doc__', '__eq__', '__format__', '__ge__', '__get__', '__getattribute__', '__gt__', '__hash__', '__init__', '__init_subclass__', '__isabstractmethod__', '__le__', '__lt__', '__ne__', '__new__', '__reduce__', '__reduce_ex__', '__repr__', '__set__', '__setattr__', '__sizeof__', '__str__', '__subclasshook__', 'deleter', 'fdel', 'fget', 'fset', 'getter', 'setter']\n",
      "===== Using in class declaration\n",
      "123\n",
      "456\n"
     ]
    }
   ],
   "metadata": {}
  },
  {
   "cell_type": "code",
   "execution_count": 111,
   "source": [
    "# range\n",
    "# range(stop)\n",
    "# range(start, stop[, step])\n",
    "# Rather than being a function, range is actually an immutable sequence type\n",
    "\n",
    "print(range(3))\n",
    "print(range(1, 10))\n",
    "print(range(1, 10, 3))"
   ],
   "outputs": [
    {
     "output_type": "stream",
     "name": "stdout",
     "text": [
      "range(0, 3)\n",
      "range(1, 10)\n",
      "range(1, 10, 3)\n"
     ]
    }
   ],
   "metadata": {}
  },
  {
   "cell_type": "code",
   "execution_count": 112,
   "source": [
    "# repr (representation in short)\n",
    "\n",
    "class Repr1:\n",
    "    def __repr__(self) -> str:\n",
    "        return \"Hello this is Repr1 with id = \" + str(id(self))\n",
    "\n",
    "print(\"Hello\")\n",
    "print(repr(\"Hello\")) # include '' in string\n",
    "print(repr(123))\n",
    "print(repr(True))\n",
    "print(repr(Repr1())) # object of class within __repr__"
   ],
   "outputs": [
    {
     "output_type": "stream",
     "name": "stdout",
     "text": [
      "Hello\n",
      "'Hello'\n",
      "123\n",
      "True\n",
      "Hello this is Repr1 with id = 139803486067440\n"
     ]
    }
   ],
   "metadata": {}
  },
  {
   "cell_type": "code",
   "execution_count": 113,
   "source": [
    "# reversed\n",
    "# Return a reverse iterator. seq must be an object which has a __reversed__() method \n",
    "# or supports the sequence protocol (the __len__() method and the __getitem__() method with integer arguments starting at 0).\n",
    "\n",
    "class Reversed1:\n",
    "    def __init__(self):\n",
    "        self.count = 0\n",
    "        self.inc = 1\n",
    "  \n",
    "    def __call__(self):\n",
    "        self.count = self.count + self.inc\n",
    "        return self.count\n",
    "\n",
    "    def __reversed__(self):\n",
    "        self.count = 10\n",
    "        self.inc = -1\n",
    "        return iter(self, 0)\n",
    "\n",
    "print(list(iter(Reversed1(), 10)))\n",
    "print(list(reversed(Reversed1())))"
   ],
   "outputs": [
    {
     "output_type": "stream",
     "name": "stdout",
     "text": [
      "[1, 2, 3, 4, 5, 6, 7, 8, 9]\n",
      "[9, 8, 7, 6, 5, 4, 3, 2, 1]\n"
     ]
    }
   ],
   "metadata": {}
  },
  {
   "cell_type": "code",
   "execution_count": 114,
   "source": [
    "# round\n",
    "# round(number[, ndigits])\n",
    "# Return number rounded to ndigits precision after the decimal point. \n",
    "# If ndigits is omitted or is None, it returns the nearest integer to its input.\n",
    "\n",
    "print(round(123.24689, 2))\n",
    "print(round(-123.24689, 2))\n",
    "print(round(123.24689))\n",
    "print(round(-123.24689))"
   ],
   "outputs": [
    {
     "output_type": "stream",
     "name": "stdout",
     "text": [
      "123.25\n",
      "-123.25\n",
      "123\n",
      "-123\n"
     ]
    }
   ],
   "metadata": {}
  },
  {
   "cell_type": "code",
   "execution_count": 115,
   "source": [
    "# set\n",
    "# Return a new set object, optionally with elements taken from iterable\n",
    "\n",
    "print(set(iter(Reversed1(), 8)))\n",
    "print(set([1, 2, 2, 5 ,1 , 7 ,5]))"
   ],
   "outputs": [
    {
     "output_type": "stream",
     "name": "stdout",
     "text": [
      "{1, 2, 3, 4, 5, 6, 7}\n",
      "{1, 2, 5, 7}\n"
     ]
    }
   ],
   "metadata": {}
  },
  {
   "cell_type": "code",
   "execution_count": 116,
   "source": [
    "# setattr\n",
    "\n",
    "# This is the counterpart of getattr(). The arguments are an object, a string and an arbitrary value. \n",
    "# The string may name an existing attribute or a new attribute. \n",
    "# The function assigns the value to the attribute, provided the object allows it\n",
    "\n",
    "prop3_1 = Prop3()\n",
    "print(prop3_1.x)\n",
    "setattr(prop3_1, 'x', 42)\n",
    "print(prop3_1.x)"
   ],
   "outputs": [
    {
     "output_type": "stream",
     "name": "stdout",
     "text": [
      "None\n",
      "42\n"
     ]
    }
   ],
   "metadata": {}
  },
  {
   "cell_type": "code",
   "execution_count": 117,
   "source": [
    "# sorted\n",
    "# sorted(iterable, *, key=None, reverse=False)\n",
    "\n",
    "print(sorted([3, 1, 8, 9]))\n",
    "print(sorted([3, 1, 8, 9], reverse=True))\n",
    "print(sorted([{\"x\": 3}, {\"x\": 1}, {\"x\": 8}, {\"x\": 7}], reverse=True, key=lambda v: v['x']))"
   ],
   "outputs": [
    {
     "output_type": "stream",
     "name": "stdout",
     "text": [
      "[1, 3, 8, 9]\n",
      "[9, 8, 3, 1]\n",
      "[{'x': 8}, {'x': 7}, {'x': 3}, {'x': 1}]\n"
     ]
    }
   ],
   "metadata": {}
  },
  {
   "cell_type": "code",
   "execution_count": 118,
   "source": [
    "# str\n",
    "# str(object=b'', encoding='utf-8', errors='strict')\n",
    "# Return a str version of object.\n",
    "\n",
    "print(str(b\"Hello world\", encoding='ascii'))\n",
    "print(str(b\"Hello world\", encoding='cp273')) # German\n",
    "\n",
    "str1 = \"Xin chào\"\n",
    "print(str1.encode('cp1258')) # Vietnamese"
   ],
   "outputs": [
    {
     "output_type": "stream",
     "name": "stdout",
     "text": [
      "Hello world\n",
      "çÁ%%?Ï?Ê%À\n",
      "b'Xin ch\\xe0o'\n"
     ]
    }
   ],
   "metadata": {}
  },
  {
   "cell_type": "code",
   "execution_count": 119,
   "source": [
    "# sum\n",
    "# Sums start and the items of an iterable from left to right and returns the total. \n",
    "# The iterable’s items are normally numbers, and the start value is not allowed to be a string\n",
    "\n",
    "print(sum([1, 2, 3 , 5]))\n",
    "print(sum(iter(Reversed1(), 10)))\n",
    "print(sum(iter(Reversed1(), 10), start=5))\n"
   ],
   "outputs": [
    {
     "output_type": "stream",
     "name": "stdout",
     "text": [
      "11\n",
      "45\n",
      "50\n"
     ]
    }
   ],
   "metadata": {}
  },
  {
   "cell_type": "code",
   "execution_count": 120,
   "source": [
    "# super\n",
    "# Return a proxy object that delegates method calls to a parent or sibling class of type. \n",
    "# This is useful for accessing inherited methods that have been overridden in a class.\n",
    "\n",
    "class B:\n",
    "    def method(self, arg):\n",
    "        print(f\"B call method with {arg}\")\n",
    "\n",
    "class C(B):\n",
    "    def method(self, arg):\n",
    "        super().method(arg)\n",
    "        print(f\"C call method with {arg}\")\n",
    "\n",
    "C().method(\"hello\")"
   ],
   "outputs": [
    {
     "output_type": "stream",
     "name": "stdout",
     "text": [
      "B call method with hello\n",
      "C call method with hello\n"
     ]
    }
   ],
   "metadata": {}
  },
  {
   "cell_type": "code",
   "execution_count": 121,
   "source": [
    "# tuple\n",
    "# tuple([iterable])\n",
    "\n",
    "print(tuple([1, 5, 6]))\n",
    "print(tuple(iter(Reversed1(), 10)))"
   ],
   "outputs": [
    {
     "output_type": "stream",
     "name": "stdout",
     "text": [
      "(1, 5, 6)\n",
      "(1, 2, 3, 4, 5, 6, 7, 8, 9)\n"
     ]
    }
   ],
   "metadata": {}
  },
  {
   "cell_type": "code",
   "execution_count": 122,
   "source": [
    "# vars\n",
    "# Return the __dict__ attribute for a module, class, instance, or any other object with a __dict__ attribute.\n",
    "\n",
    "print(vars(C))\n",
    "print(vars(Reversed1))\n"
   ],
   "outputs": [
    {
     "output_type": "stream",
     "name": "stdout",
     "text": [
      "{'__module__': '__main__', 'method': <function C.method at 0x7f2689205670>, '__doc__': None}\n",
      "{'__module__': '__main__', '__init__': <function Reversed1.__init__ at 0x7f2689205820>, '__call__': <function Reversed1.__call__ at 0x7f2689205700>, '__reversed__': <function Reversed1.__reversed__ at 0x7f2689205940>, '__dict__': <attribute '__dict__' of 'Reversed1' objects>, '__weakref__': <attribute '__weakref__' of 'Reversed1' objects>, '__doc__': None}\n"
     ]
    }
   ],
   "metadata": {}
  },
  {
   "cell_type": "code",
   "execution_count": 123,
   "source": [
    "# zip\n",
    "# Make an iterator that aggregates elements from each of the iterables (stop at shortest interator)\n",
    "\n",
    "tup2 = [\"A\", \"B\", \"C\", \"D\"]\n",
    "lst1 = [1, 2, 3]\n",
    "set3 = {100, 200, 300, 400, 500, 600, 700}\n",
    "\n",
    "print(zip(tup2, lst1))\n",
    "print(list(zip(tup2, lst1, set3)))\n",
    "print(list(zip(tup2, set3)))"
   ],
   "outputs": [
    {
     "output_type": "stream",
     "name": "stdout",
     "text": [
      "<zip object at 0x7f2689203a00>\n",
      "[('A', 1, 100), ('B', 2, 200), ('C', 3, 300)]\n",
      "[('A', 100), ('B', 200), ('C', 300), ('D', 400)]\n"
     ]
    }
   ],
   "metadata": {}
  }
 ],
 "metadata": {
  "orig_nbformat": 4,
  "language_info": {
   "name": "python",
   "version": "3.8.10",
   "mimetype": "text/x-python",
   "codemirror_mode": {
    "name": "ipython",
    "version": 3
   },
   "pygments_lexer": "ipython3",
   "nbconvert_exporter": "python",
   "file_extension": ".py"
  },
  "kernelspec": {
   "name": "python3",
   "display_name": "Python 3.8.10 64-bit ('learn-python-intermediate-3UIPR_d7-py3.8': venv)"
  },
  "interpreter": {
   "hash": "53aa44ee5584dab98f6f010b7ab9d1d2a77a8f1eacf1414f0e965eca9f69a232"
  }
 },
 "nbformat": 4,
 "nbformat_minor": 2
}