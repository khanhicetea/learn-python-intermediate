{
 "cells": [
  {
   "cell_type": "markdown",
   "source": [
    "## BUILT-IN FUNCTIONS"
   ],
   "metadata": {}
  },
  {
   "cell_type": "code",
   "execution_count": 2,
   "source": [
    "# abs\n",
    "# Return the absolute value of a number\n",
    "\n",
    "class Abs1:\n",
    "    def __abs__(self):\n",
    "        return 123\n",
    "\n",
    "print(\"=== abs ===\")\n",
    "print(abs(1))\n",
    "print(abs(-1))\n",
    "print(abs(-1.235))\n",
    "print(abs(Abs1()))\n"
   ],
   "outputs": [
    {
     "output_type": "stream",
     "name": "stdout",
     "text": [
      "=== abs ===\n",
      "1\n",
      "1\n",
      "1.235\n",
      "123\n"
     ]
    }
   ],
   "metadata": {}
  },
  {
   "cell_type": "code",
   "execution_count": 11,
   "source": [
    "# all\n",
    "# Return True if all elements of the iterable are true (or if the iterable is empty)\n",
    "\n",
    "class False1:\n",
    "    def __bool__(self):\n",
    "        print(\"False in class\")\n",
    "        return False\n",
    "\n",
    "class True1:\n",
    "    def __bool__(self):\n",
    "        print(\"True in class\")\n",
    "        return True\n",
    "\n",
    "\n",
    "all_lst1 = [1, -9, 2]\n",
    "all_lst2 = [True, False, True]\n",
    "all_lst3 = [True, False1(), True1()]\n",
    "\n",
    "print(\"all_empty_list\", all([]))\n",
    "print(\"all_lst1\", all(all_lst1))\n",
    "print(\"all_lst2\", all(all_lst2))\n",
    "print(\"all_lst3\") # print only text to see False in class\n",
    "print(all(all_lst3)) # You won't see \"True in class\" before previous item is False (stop here)"
   ],
   "outputs": [
    {
     "output_type": "stream",
     "name": "stdout",
     "text": [
      "all_empty_list True\n",
      "all_lst1 True\n",
      "all_lst2 False\n",
      "all_lst3\n",
      "False in class\n",
      "False\n"
     ]
    }
   ],
   "metadata": {}
  },
  {
   "cell_type": "code",
   "execution_count": 23,
   "source": [
    "# any\n",
    "# Return True if any element of the iterable is true. If the iterable is empty, return False  => ( ! all ( lambda: ! item ) )\n",
    "\n",
    "any_lst1 = [0, -9, 0]\n",
    "any_lst2 = [False, False, True]\n",
    "any_lst3 = [False, False, False]\n",
    "any_lst4 = [True1(), False1(), False]\n",
    "\n",
    "print(\"any_empty_list\", any([]))\n",
    "print(\"any_lst1\", any(any_lst1))\n",
    "print(\"any_lst2\", any(any_lst2))\n",
    "print(\"any_lst3\", any(any_lst3))\n",
    "print(\"any_lst4\") # print only text to see True in class\n",
    "print(any(any_lst4)) # You won't see \"False in class\" before previous item is True (stop here)\n",
    "\n",
    "# try Morgan !!?\n",
    "# any = ( not all ( lambda: not item ) )\n",
    "def new_any(lst):\n",
    "    return not all(map(lambda x: not x, lst))\n",
    "\n",
    "print(\"=== Try with new any but not use any :D\", )\n",
    "print(\"new_any_empty_list\", new_any([]))\n",
    "print(\"new_any_lst1\", new_any(any_lst1))\n",
    "print(\"new_any_lst2\", new_any(any_lst2))\n",
    "print(\"new_any_lst3\", new_any(any_lst3))\n",
    "print(\"new_any_lst4\") # print only text to see True in class\n",
    "print(new_any(any_lst4)) # You won't see \"False in class\" before previous item is True (stop here)\n"
   ],
   "outputs": [
    {
     "output_type": "stream",
     "name": "stdout",
     "text": [
      "any_empty_list False\n",
      "any_lst1 True\n",
      "any_lst2 True\n",
      "any_lst3 False\n",
      "any_lst4\n",
      "True in class\n",
      "True\n",
      "=== Try with new any but not use any :D\n",
      "new_any_empty_list False\n",
      "new_any_lst1 True\n",
      "new_any_lst2 True\n",
      "new_any_lst3 False\n",
      "new_any_lst4\n",
      "True in class\n",
      "True\n"
     ]
    }
   ],
   "metadata": {}
  },
  {
   "cell_type": "code",
   "execution_count": 32,
   "source": [
    "# ascii\n",
    "# As repr(), return a string containing a printable representation of an object,\n",
    "# but escape the non-ASCII characters in the string returned by repr() using \\x, \\u or \\U escapes.\n",
    "\n",
    "class Ascii1:\n",
    "    def __repr__(self) -> str:\n",
    "        return 'Hay lắm nhaa'\n",
    "\n",
    "print(ascii(1))\n",
    "print(ascii(1.2) == '1.2')\n",
    "print(ascii(False) == 'False')\n",
    "print(ascii('Tiếng Việt'))\n",
    "print(ascii(Ascii1()))"
   ],
   "outputs": [
    {
     "output_type": "stream",
     "name": "stdout",
     "text": [
      "1\n",
      "True\n",
      "True\n",
      "'Ti\\u1ebfng Vi\\u1ec7t'\n",
      "Hay l\\u1eafm nhaa\n"
     ]
    }
   ],
   "metadata": {}
  },
  {
   "cell_type": "code",
   "execution_count": 37,
   "source": [
    "# bin\n",
    "# Convert an integer number to a binary string prefixed with “0b”.\n",
    "# The result is a valid Python expression. If x is not a Python int object,\n",
    "# it has to define an __index__() method that returns an integer\n",
    "\n",
    "class Bin1:\n",
    "    def __index__(self):\n",
    "        return 3\n",
    "\n",
    "print(bin(42))\n",
    "print(bin(-42))\n",
    "print(bin(Bin1()))"
   ],
   "outputs": [
    {
     "output_type": "stream",
     "name": "stdout",
     "text": [
      "0b101010\n",
      "-0b101010\n",
      "0b11\n"
     ]
    }
   ],
   "metadata": {}
  },
  {
   "cell_type": "code",
   "execution_count": 43,
   "source": [
    "# bool\n",
    "# Return a Boolean value, i.e. one of True or False.\n",
    "# x is converted using the standard truth testing procedure. \n",
    "# If x is false or omitted, this returns False; otherwise it returns True\n",
    "\n",
    "class Bool1:\n",
    "    def __init__(self, val) -> None:\n",
    "        self.val = val\n",
    "\n",
    "    def __bool__(self):\n",
    "        return self.val\n",
    "\n",
    "print(\"bool()\", bool())\n",
    "print(\"bool(0)\", bool(0))\n",
    "print(\"bool(1)\", bool(1))\n",
    "print(\"bool(-1)\", bool(-1))\n",
    "print(\"bool('0'))\", bool('0')) # haha be careful\n",
    "print(\"bool('a')\", bool('a'))\n",
    "print(\"bool(1.25)\", bool(1.25))\n",
    "print(\"bool(Bool1(False))\", bool(Bool1(False)))\n",
    "print(\"bool(Bool1(True))\", bool(Bool1(True)))"
   ],
   "outputs": [
    {
     "output_type": "stream",
     "name": "stdout",
     "text": [
      "bool() False\n",
      "bool(0) False\n",
      "bool(1) True\n",
      "bool(-1) True\n",
      "bool('0')) True\n",
      "bool('a') True\n",
      "bool(1.25) True\n",
      "bool(Bool1(False)) False\n",
      "bool(Bool1(True)) True\n"
     ]
    }
   ],
   "metadata": {}
  },
  {
   "cell_type": "code",
   "execution_count": 46,
   "source": [
    "# callable\n",
    "# Return True if the object argument appears callable, False if not.\n",
    "# If this returns True, it is still possible that a call fails, \n",
    "# but if it is False, calling object will never succeed.\n",
    "\n",
    "class Callable1:\n",
    "    def __call__(self):\n",
    "        print(\"haha\")\n",
    "\n",
    "def callable2():\n",
    "    print(\"hehe\")\n",
    "\n",
    "callable3 = lambda x: x * x\n",
    "\n",
    "print(callable(0))\n",
    "print(callable(False))\n",
    "print(callable('aaaa'))\n",
    "print(callable(callable2))\n",
    "print(callable(callable3))\n",
    "print(callable(lambda x: x + 1))\n",
    "print(callable(Callable1()))"
   ],
   "outputs": [
    {
     "output_type": "stream",
     "name": "stdout",
     "text": [
      "False\n",
      "False\n",
      "False\n",
      "True\n",
      "True\n",
      "True\n",
      "True\n"
     ]
    }
   ],
   "metadata": {}
  },
  {
   "cell_type": "code",
   "execution_count": 56,
   "source": [
    "# chr\n",
    "# Return the string representing a character whose Unicode code point is the integer i\n",
    "\n",
    "print(chr(65))\n",
    "print(chr(122))\n",
    "print(chr(7979))\n",
    "print(chr(99999))"
   ],
   "outputs": [
    {
     "output_type": "stream",
     "name": "stdout",
     "text": [
      "A\n",
      "z\n",
      "Ἣ\n",
      "𘚟\n"
     ]
    }
   ],
   "metadata": {}
  },
  {
   "cell_type": "code",
   "execution_count": 59,
   "source": [
    "# classmethod (decorator function)\n",
    "# Transform a method into a class method.\n",
    "# A class method receives the class as implicit first argument, just like an instance method receives the instance\n",
    "\n",
    "class ClassMethod1:\n",
    "    var1 = 1\n",
    "    @classmethod\n",
    "    def echo(cls, arg1):\n",
    "        print(cls, cls.var1, arg1)\n",
    "\n",
    "class SubClassMethod1(ClassMethod1):\n",
    "    var1 = 10\n",
    "\n",
    "ClassMethod1.echo(\"hello\")\n",
    "SubClassMethod1.echo(\"hi\")"
   ],
   "outputs": [
    {
     "output_type": "stream",
     "name": "stdout",
     "text": [
      "<class '__main__.ClassMethod1'> 1 hello\n",
      "<class '__main__.SubClassMethod1'> 10 hi\n"
     ]
    }
   ],
   "metadata": {}
  }
 ],
 "metadata": {
  "orig_nbformat": 4,
  "language_info": {
   "name": "python",
   "version": "3.8.10",
   "mimetype": "text/x-python",
   "codemirror_mode": {
    "name": "ipython",
    "version": 3
   },
   "pygments_lexer": "ipython3",
   "nbconvert_exporter": "python",
   "file_extension": ".py"
  },
  "kernelspec": {
   "name": "python3",
   "display_name": "Python 3.8.10 64-bit ('learn-python-intermediate-3UIPR_d7-py3.8': venv)"
  },
  "interpreter": {
   "hash": "53aa44ee5584dab98f6f010b7ab9d1d2a77a8f1eacf1414f0e965eca9f69a232"
  }
 },
 "nbformat": 4,
 "nbformat_minor": 2
}