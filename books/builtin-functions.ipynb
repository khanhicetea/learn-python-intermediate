{
 "cells": [
  {
   "cell_type": "markdown",
   "source": [
    "## BUILT-IN FUNCTIONS"
   ],
   "metadata": {}
  },
  {
   "cell_type": "code",
   "execution_count": 148,
   "source": [
    "# abs\n",
    "# Return the absolute value of a number\n",
    "\n",
    "class Abs1:\n",
    "    def __abs__(self):\n",
    "        return 123\n",
    "\n",
    "print(\"=== abs ===\")\n",
    "print(abs(1))\n",
    "print(abs(-1))\n",
    "print(abs(-1.235))\n",
    "print(abs(Abs1()))\n"
   ],
   "outputs": [
    {
     "output_type": "stream",
     "name": "stdout",
     "text": [
      "=== abs ===\n",
      "1\n",
      "1\n",
      "1.235\n",
      "123\n"
     ]
    }
   ],
   "metadata": {}
  },
  {
   "cell_type": "code",
   "execution_count": 149,
   "source": [
    "# all\n",
    "# Return True if all elements of the iterable are true (or if the iterable is empty)\n",
    "\n",
    "class False1:\n",
    "    def __bool__(self):\n",
    "        print(\"False in class\")\n",
    "        return False\n",
    "\n",
    "class True1:\n",
    "    def __bool__(self):\n",
    "        print(\"True in class\")\n",
    "        return True\n",
    "\n",
    "\n",
    "all_lst1 = [1, -9, 2]\n",
    "all_lst2 = [True, False, True]\n",
    "all_lst3 = [True, False1(), True1()]\n",
    "\n",
    "print(\"all_empty_list\", all([]))\n",
    "print(\"all_lst1\", all(all_lst1))\n",
    "print(\"all_lst2\", all(all_lst2))\n",
    "print(\"all_lst3\") # print only text to see False in class\n",
    "print(all(all_lst3)) # You won't see \"True in class\" before previous item is False (stop here)"
   ],
   "outputs": [
    {
     "output_type": "stream",
     "name": "stdout",
     "text": [
      "all_empty_list True\n",
      "all_lst1 True\n",
      "all_lst2 False\n",
      "all_lst3\n",
      "False in class\n",
      "False\n"
     ]
    }
   ],
   "metadata": {}
  },
  {
   "cell_type": "code",
   "execution_count": 150,
   "source": [
    "# any\n",
    "# Return True if any element of the iterable is true. If the iterable is empty, return False  => ( ! all ( lambda: ! item ) )\n",
    "\n",
    "any_lst1 = [0, -9, 0]\n",
    "any_lst2 = [False, False, True]\n",
    "any_lst3 = [False, False, False]\n",
    "any_lst4 = [True1(), False1(), False]\n",
    "\n",
    "print(\"any_empty_list\", any([]))\n",
    "print(\"any_lst1\", any(any_lst1))\n",
    "print(\"any_lst2\", any(any_lst2))\n",
    "print(\"any_lst3\", any(any_lst3))\n",
    "print(\"any_lst4\") # print only text to see True in class\n",
    "print(any(any_lst4)) # You won't see \"False in class\" before previous item is True (stop here)\n",
    "\n",
    "# try Morgan !!?\n",
    "# any = ( not all ( lambda: not item ) )\n",
    "def new_any(lst):\n",
    "    return not all(map(lambda x: not x, lst))\n",
    "\n",
    "print(\"=== Try with new any but not use any :D\", )\n",
    "print(\"new_any_empty_list\", new_any([]))\n",
    "print(\"new_any_lst1\", new_any(any_lst1))\n",
    "print(\"new_any_lst2\", new_any(any_lst2))\n",
    "print(\"new_any_lst3\", new_any(any_lst3))\n",
    "print(\"new_any_lst4\") # print only text to see True in class\n",
    "print(new_any(any_lst4)) # You won't see \"False in class\" before previous item is True (stop here)\n"
   ],
   "outputs": [
    {
     "output_type": "stream",
     "name": "stdout",
     "text": [
      "any_empty_list False\n",
      "any_lst1 True\n",
      "any_lst2 True\n",
      "any_lst3 False\n",
      "any_lst4\n",
      "True in class\n",
      "True\n",
      "=== Try with new any but not use any :D\n",
      "new_any_empty_list False\n",
      "new_any_lst1 True\n",
      "new_any_lst2 True\n",
      "new_any_lst3 False\n",
      "new_any_lst4\n",
      "True in class\n",
      "True\n"
     ]
    }
   ],
   "metadata": {}
  },
  {
   "cell_type": "code",
   "execution_count": 151,
   "source": [
    "# ascii\n",
    "# As repr(), return a string containing a printable representation of an object,\n",
    "# but escape the non-ASCII characters in the string returned by repr() using \\x, \\u or \\U escapes.\n",
    "\n",
    "class Ascii1:\n",
    "    def __repr__(self) -> str:\n",
    "        return 'Hay lắm nhaa'\n",
    "\n",
    "print(ascii(1))\n",
    "print(ascii(1.2) == '1.2')\n",
    "print(ascii(False) == 'False')\n",
    "print(ascii('Tiếng Việt'))\n",
    "print(ascii(Ascii1()))"
   ],
   "outputs": [
    {
     "output_type": "stream",
     "name": "stdout",
     "text": [
      "1\n",
      "True\n",
      "True\n",
      "'Ti\\u1ebfng Vi\\u1ec7t'\n",
      "Hay l\\u1eafm nhaa\n"
     ]
    }
   ],
   "metadata": {}
  },
  {
   "cell_type": "code",
   "execution_count": 152,
   "source": [
    "# bin\n",
    "# Convert an integer number to a binary string prefixed with “0b”.\n",
    "# The result is a valid Python expression. If x is not a Python int object,\n",
    "# it has to define an __index__() method that returns an integer\n",
    "\n",
    "class Bin1:\n",
    "    def __index__(self):\n",
    "        return 3\n",
    "\n",
    "print(bin(42))\n",
    "print(bin(-42))\n",
    "print(bin(Bin1()))"
   ],
   "outputs": [
    {
     "output_type": "stream",
     "name": "stdout",
     "text": [
      "0b101010\n",
      "-0b101010\n",
      "0b11\n"
     ]
    }
   ],
   "metadata": {}
  },
  {
   "cell_type": "code",
   "execution_count": 153,
   "source": [
    "# bool\n",
    "# Return a Boolean value, i.e. one of True or False.\n",
    "# x is converted using the standard truth testing procedure. \n",
    "# If x is false or omitted, this returns False; otherwise it returns True\n",
    "\n",
    "class Bool1:\n",
    "    def __init__(self, val) -> None:\n",
    "        self.val = val\n",
    "\n",
    "    def __bool__(self):\n",
    "        return self.val\n",
    "\n",
    "print(\"bool()\", bool())\n",
    "print(\"bool(0)\", bool(0))\n",
    "print(\"bool(1)\", bool(1))\n",
    "print(\"bool(-1)\", bool(-1))\n",
    "print(\"bool('0'))\", bool('0')) # haha be careful\n",
    "print(\"bool('a')\", bool('a'))\n",
    "print(\"bool(1.25)\", bool(1.25))\n",
    "print(\"bool(Bool1(False))\", bool(Bool1(False)))\n",
    "print(\"bool(Bool1(True))\", bool(Bool1(True)))"
   ],
   "outputs": [
    {
     "output_type": "stream",
     "name": "stdout",
     "text": [
      "bool() False\n",
      "bool(0) False\n",
      "bool(1) True\n",
      "bool(-1) True\n",
      "bool('0')) True\n",
      "bool('a') True\n",
      "bool(1.25) True\n",
      "bool(Bool1(False)) False\n",
      "bool(Bool1(True)) True\n"
     ]
    }
   ],
   "metadata": {}
  },
  {
   "cell_type": "code",
   "execution_count": 154,
   "source": [
    "# callable\n",
    "# Return True if the object argument appears callable, False if not.\n",
    "# If this returns True, it is still possible that a call fails, \n",
    "# but if it is False, calling object will never succeed.\n",
    "\n",
    "class Callable1:\n",
    "    def __call__(self):\n",
    "        print(\"haha\")\n",
    "\n",
    "def callable2():\n",
    "    print(\"hehe\")\n",
    "\n",
    "callable3 = lambda x: x * x\n",
    "\n",
    "print(callable(0))\n",
    "print(callable(False))\n",
    "print(callable('aaaa'))\n",
    "print(callable(callable2))\n",
    "print(callable(callable3))\n",
    "print(callable(lambda x: x + 1))\n",
    "print(callable(Callable1()))"
   ],
   "outputs": [
    {
     "output_type": "stream",
     "name": "stdout",
     "text": [
      "False\n",
      "False\n",
      "False\n",
      "True\n",
      "True\n",
      "True\n",
      "True\n"
     ]
    }
   ],
   "metadata": {}
  },
  {
   "cell_type": "code",
   "execution_count": 155,
   "source": [
    "# chr\n",
    "# Return the string representing a character whose Unicode code point is the integer i\n",
    "\n",
    "print(chr(65))\n",
    "print(chr(122))\n",
    "print(chr(7979))\n",
    "print(chr(99999))"
   ],
   "outputs": [
    {
     "output_type": "stream",
     "name": "stdout",
     "text": [
      "A\n",
      "z\n",
      "Ἣ\n",
      "𘚟\n"
     ]
    }
   ],
   "metadata": {}
  },
  {
   "cell_type": "code",
   "execution_count": 156,
   "source": [
    "# classmethod (decorator function)\n",
    "# Transform a method into a class method.\n",
    "# A class method receives the class as implicit first argument, just like an instance method receives the instance\n",
    "\n",
    "class ClassMethod1:\n",
    "    var1 = 1\n",
    "    @classmethod\n",
    "    def echo(cls, arg1):\n",
    "        print(cls, cls.var1, arg1)\n",
    "\n",
    "class SubClassMethod1(ClassMethod1):\n",
    "    var1 = 10\n",
    "\n",
    "ClassMethod1.echo(\"hello\")\n",
    "SubClassMethod1.echo(\"hi\")"
   ],
   "outputs": [
    {
     "output_type": "stream",
     "name": "stdout",
     "text": [
      "<class '__main__.ClassMethod1'> 1 hello\n",
      "<class '__main__.SubClassMethod1'> 10 hi\n"
     ]
    }
   ],
   "metadata": {}
  },
  {
   "cell_type": "code",
   "execution_count": 157,
   "source": [
    "# complex\n",
    "# Remember complex number ?? Nope, me too, just the name\n",
    "\n",
    "complex_n1 = complex(1, 2)\n",
    "complex_n2 = complex('1+2j')\n",
    "\n",
    "print(complex_n1)\n",
    "print(complex_n2)\n",
    "print(complex_n1 + complex_n2)\n",
    "print(complex_n1 * complex_n2) # I still can't get it :D"
   ],
   "outputs": [
    {
     "output_type": "stream",
     "name": "stdout",
     "text": [
      "(1+2j)\n",
      "(1+2j)\n",
      "(2+4j)\n",
      "(-3+4j)\n"
     ]
    }
   ],
   "metadata": {}
  },
  {
   "cell_type": "code",
   "execution_count": 158,
   "source": [
    "# delattr\n",
    "# remember __dict__ ? this function try to delete key from its __dict__ (can't delete read-only attr)\n",
    "\n",
    "class DelAttr1:\n",
    "    var1 = 2\n",
    "    var2 = 3\n",
    "\n",
    "print(DelAttr1.__dict__)\n",
    "print(DelAttr1.var1)\n",
    "delattr(DelAttr1, \"var1\")\n",
    "print(DelAttr1.__dict__)\n",
    "print(DelAttr1.var1)\n"
   ],
   "outputs": [
    {
     "output_type": "stream",
     "name": "stdout",
     "text": [
      "{'__module__': '__main__', 'var1': 2, 'var2': 3, '__dict__': <attribute '__dict__' of 'DelAttr1' objects>, '__weakref__': <attribute '__weakref__' of 'DelAttr1' objects>, '__doc__': None}\n",
      "2\n",
      "{'__module__': '__main__', 'var2': 3, '__dict__': <attribute '__dict__' of 'DelAttr1' objects>, '__weakref__': <attribute '__weakref__' of 'DelAttr1' objects>, '__doc__': None}\n"
     ]
    },
    {
     "output_type": "error",
     "ename": "AttributeError",
     "evalue": "type object 'DelAttr1' has no attribute 'var1'",
     "traceback": [
      "\u001b[0;31m---------------------------------------------------------------------------\u001b[0m",
      "\u001b[0;31mAttributeError\u001b[0m                            Traceback (most recent call last)",
      "\u001b[0;32m/tmp/ipykernel_83243/2505360604.py\u001b[0m in \u001b[0;36m<module>\u001b[0;34m\u001b[0m\n\u001b[1;32m     10\u001b[0m \u001b[0mdelattr\u001b[0m\u001b[0;34m(\u001b[0m\u001b[0mDelAttr1\u001b[0m\u001b[0;34m,\u001b[0m \u001b[0;34m\"var1\"\u001b[0m\u001b[0;34m)\u001b[0m\u001b[0;34m\u001b[0m\u001b[0;34m\u001b[0m\u001b[0m\n\u001b[1;32m     11\u001b[0m \u001b[0mprint\u001b[0m\u001b[0;34m(\u001b[0m\u001b[0mDelAttr1\u001b[0m\u001b[0;34m.\u001b[0m\u001b[0m__dict__\u001b[0m\u001b[0;34m)\u001b[0m\u001b[0;34m\u001b[0m\u001b[0;34m\u001b[0m\u001b[0m\n\u001b[0;32m---> 12\u001b[0;31m \u001b[0mprint\u001b[0m\u001b[0;34m(\u001b[0m\u001b[0mDelAttr1\u001b[0m\u001b[0;34m.\u001b[0m\u001b[0mvar1\u001b[0m\u001b[0;34m)\u001b[0m\u001b[0;34m\u001b[0m\u001b[0;34m\u001b[0m\u001b[0m\n\u001b[0m",
      "\u001b[0;31mAttributeError\u001b[0m: type object 'DelAttr1' has no attribute 'var1'"
     ]
    }
   ],
   "metadata": {}
  },
  {
   "cell_type": "code",
   "execution_count": null,
   "source": [
    "# dict\n",
    "# return a dict from 3 signatures\n",
    "# dict(**kwarg)\n",
    "# dict(mapping, **kwarg)\n",
    "# dict(iterable, **kwarg)\n",
    "\n",
    "print(dict(a=1, b=2, c=3.4, d='e'))\n",
    "print(dict([('two', 2), ('one', 1), ('three', 3)])) # list or key-value-tuples\n",
    "print(list(zip(['a', 'b', 'c'], [1, 2, 3]))) # tricks with zip\n",
    "print(dict(zip(['a', 'b', 'c'], [1, 2, 3]))) # tricks with zip\n",
    "print(dict({\"a\": 1, \"b\": 2}, c=3))\n",
    "print(dict(dict(a=1, b=2, c=3.4), c=3)) # like merge-or-update to new dict"
   ],
   "outputs": [
    {
     "output_type": "stream",
     "name": "stdout",
     "text": [
      "{'a': 1, 'b': 2, 'c': 3.4, 'd': 'e'}\n",
      "{'two': 2, 'one': 1, 'three': 3}\n",
      "[('a', 1), ('b', 2), ('c', 3)]\n",
      "{'a': 1, 'b': 2, 'c': 3}\n",
      "{'a': 1, 'b': 2, 'c': 3}\n",
      "{'a': 1, 'b': 2, 'c': 3}\n"
     ]
    }
   ],
   "metadata": {}
  },
  {
   "cell_type": "code",
   "execution_count": null,
   "source": [
    "# dir\n",
    "# Without arguments, return the list of names in the current local scope.\n",
    "# With an argument, attempt to return a list of valid attributes for that object.\n",
    "\n",
    "class Dir1:\n",
    "    def __init__(self, dct):\n",
    "        self.items = dict(dct)\n",
    "\n",
    "    def __dir__(self): # good match with __getattr__\n",
    "        return self.items.keys()\n",
    "    \n",
    "    def __getattr__(self, name: str): # Custom get dynamic attr\n",
    "        return self.items.get(name)\n",
    "\n",
    "print(dir())\n",
    "print(\"----------------\")\n",
    "print(dir(ClassMethod1))\n",
    "print(\"----------------\")\n",
    "dir1 = Dir1({\"a\": 1, \"b\": 2})\n",
    "print(dir(dir1))\n",
    "print(dir1.a)"
   ],
   "outputs": [
    {
     "output_type": "stream",
     "name": "stdout",
     "text": [
      "['Abs1', 'Ascii1', 'Bin1', 'Bool1', 'Callable1', 'ClassMethod1', 'DelAttr1', 'Dir1', 'False1', 'In', 'Out', 'SubClassMethod1', 'True1', '_', '__', '___', '__builtin__', '__builtins__', '__doc__', '__loader__', '__name__', '__package__', '__spec__', '_dh', '_i', '_i1', '_i10', '_i11', '_i12', '_i13', '_i14', '_i15', '_i16', '_i17', '_i18', '_i19', '_i2', '_i20', '_i21', '_i22', '_i23', '_i24', '_i25', '_i26', '_i27', '_i28', '_i29', '_i3', '_i30', '_i31', '_i32', '_i33', '_i34', '_i35', '_i36', '_i37', '_i38', '_i39', '_i4', '_i40', '_i41', '_i42', '_i43', '_i44', '_i45', '_i46', '_i47', '_i48', '_i49', '_i5', '_i50', '_i51', '_i52', '_i53', '_i54', '_i55', '_i56', '_i57', '_i58', '_i59', '_i6', '_i60', '_i61', '_i62', '_i63', '_i64', '_i65', '_i66', '_i67', '_i68', '_i69', '_i7', '_i70', '_i71', '_i72', '_i73', '_i74', '_i75', '_i76', '_i77', '_i78', '_i79', '_i8', '_i80', '_i81', '_i82', '_i83', '_i84', '_i85', '_i86', '_i87', '_i88', '_i9', '_ih', '_ii', '_iii', '_oh', 'all_lst1', 'all_lst2', 'all_lst3', 'any_lst1', 'any_lst2', 'any_lst3', 'any_lst4', 'callable2', 'callable3', 'complex_n1', 'complex_n2', 'del_obj1', 'dir1', 'exit', 'get_ipython', 'new_any', 'os', 'quit', 'sys']\n",
      "----------------\n",
      "['__class__', '__delattr__', '__dict__', '__dir__', '__doc__', '__eq__', '__format__', '__ge__', '__getattribute__', '__gt__', '__hash__', '__init__', '__init_subclass__', '__le__', '__lt__', '__module__', '__ne__', '__new__', '__reduce__', '__reduce_ex__', '__repr__', '__setattr__', '__sizeof__', '__str__', '__subclasshook__', '__weakref__', 'echo', 'var1']\n",
      "----------------\n",
      "['a', 'b']\n",
      "1\n"
     ]
    }
   ],
   "metadata": {}
  },
  {
   "cell_type": "code",
   "execution_count": null,
   "source": [
    "# divmod\n",
    "# what if you need quotient and remainder also IN SINGLE function\n",
    "\n",
    "(q1, m1) = divmod(87, 5)\n",
    "print(q1, m1)\n",
    "\n",
    "(q2, m2) = divmod(87.3, 7)\n",
    "print(q2, m2) # floating problem, as close as it can\n",
    "\n",
    "(q3, m3) = divmod(19, -7)\n",
    "print(q3, m3) # remainder = 0 or x (with x has same sign of denominator)"
   ],
   "outputs": [
    {
     "output_type": "stream",
     "name": "stdout",
     "text": [
      "17 2\n",
      "12.0 3.299999999999997\n",
      "-3 -2\n"
     ]
    }
   ],
   "metadata": {}
  },
  {
   "cell_type": "code",
   "execution_count": null,
   "source": [
    "# enumerate\n",
    "# enumerate(iterable, start=0)\n",
    "# Return an enumerate object. iterable must be a sequence, an iterator, or some other object which supports iteration\n",
    "\n",
    "enum_lst1 = [\"a\", \"b\", \"c\"]\n",
    "print(list(enumerate(enum_lst1, 3)))\n",
    "\n",
    "enum_dct1 = {\"x\": 1, \"y\": 20, \"z\": 4}\n",
    "print(list(enumerate(enum_dct1, 20)))\n",
    "\n",
    "# explained\n",
    "iter1 = iter(enum_dct1)\n",
    "print(next(iter1), next(iter1), next(iter1))"
   ],
   "outputs": [
    {
     "output_type": "stream",
     "name": "stdout",
     "text": [
      "[(3, 'a'), (4, 'b'), (5, 'c')]\n",
      "[(20, 'x'), (21, 'y'), (22, 'z')]\n",
      "x y z\n"
     ]
    }
   ],
   "metadata": {}
  },
  {
   "cell_type": "code",
   "execution_count": null,
   "source": [
    "# eval\n",
    "# evil function !!! if you don't know what you doing, stay away from it\n",
    "\n",
    "print(eval('1+2'))\n",
    "eval_var_outside = 42\n",
    "print(eval('eval_var_outside*2'))"
   ],
   "outputs": [
    {
     "output_type": "stream",
     "name": "stdout",
     "text": [
      "3\n",
      "84\n"
     ]
    }
   ],
   "metadata": {}
  },
  {
   "cell_type": "code",
   "execution_count": null,
   "source": [
    "# filter\n",
    "# 'construct an iterator' from those elements of iterable for which function returns true\n",
    "\n",
    "filter_lst1 = [1, 2, 3, 4, 5, 6, 7]\n",
    "filtered_lst1 = filter(lambda x: x % 2 == 0, filter_lst1)\n",
    "print(list(filter_lst1))\n",
    "\n",
    "# only when you read values from iterator, it run the filter function\n",
    "# let try\n",
    "\n",
    "print('BEGIN')\n",
    "filtered_lst2 = filter(lambda x: print(x), filter_lst1)\n",
    "print('END')\n",
    "\n",
    "print('Let Get List')\n",
    "print(list(filtered_lst2))\n",
    "\n",
    "# What about nested iterator ??\n",
    "print(\"==== nested iterator\")\n",
    "filtered_lst3 = filter(lambda y: print(\"OUT\", y) or y, filter(lambda x: print(\"IN\", x) or x, filter_lst1))\n",
    "filtered_lst3_list = list(filtered_lst3)\n"
   ],
   "outputs": [
    {
     "output_type": "stream",
     "name": "stdout",
     "text": [
      "[1, 2, 3, 4, 5, 6, 7]\n",
      "BEGIN\n",
      "END\n",
      "Let Get List\n",
      "1\n",
      "2\n",
      "3\n",
      "4\n",
      "5\n",
      "6\n",
      "7\n",
      "[]\n",
      "==== nested iterator\n",
      "IN 1\n",
      "OUT 1\n",
      "IN 2\n",
      "OUT 2\n",
      "IN 3\n",
      "OUT 3\n",
      "IN 4\n",
      "OUT 4\n",
      "IN 5\n",
      "OUT 5\n",
      "IN 6\n",
      "OUT 6\n",
      "IN 7\n",
      "OUT 7\n"
     ]
    }
   ],
   "metadata": {}
  }
 ],
 "metadata": {
  "orig_nbformat": 4,
  "language_info": {
   "name": "python",
   "version": "3.8.10",
   "mimetype": "text/x-python",
   "codemirror_mode": {
    "name": "ipython",
    "version": 3
   },
   "pygments_lexer": "ipython3",
   "nbconvert_exporter": "python",
   "file_extension": ".py"
  },
  "kernelspec": {
   "name": "python3",
   "display_name": "Python 3.8.10 64-bit ('learn-python-intermediate-3UIPR_d7-py3.8': venv)"
  },
  "interpreter": {
   "hash": "53aa44ee5584dab98f6f010b7ab9d1d2a77a8f1eacf1414f0e965eca9f69a232"
  }
 },
 "nbformat": 4,
 "nbformat_minor": 2
}