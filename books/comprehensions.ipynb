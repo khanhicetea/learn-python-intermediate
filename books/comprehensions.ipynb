{
 "cells": [
  {
   "cell_type": "markdown",
   "source": [
    "# Python Comprehensions"
   ],
   "metadata": {}
  },
  {
   "cell_type": "code",
   "execution_count": 25,
   "source": [
    "# List Comprehensions\n",
    "\n",
    "print([x for x in range(0, 10)])\n",
    "print([x for x in range(0, 10) if x % 2 == 0])\n",
    "print([x if x < 4 else x + 1 for x in range(0, 10) if x % 2 == 0])"
   ],
   "outputs": [
    {
     "output_type": "stream",
     "name": "stdout",
     "text": [
      "[0, 1, 2, 3, 4, 5, 6, 7, 8, 9]\n",
      "[0, 2, 4, 6, 8]\n",
      "[0, 2, 5, 7, 9]\n"
     ]
    }
   ],
   "metadata": {}
  },
  {
   "cell_type": "code",
   "execution_count": 26,
   "source": [
    "# Dict Comprehensions\n",
    "\n",
    "print({x: x * 2 for x in range(0, 10)})\n",
    "print({chr(x + ord('A')): x * 2 for x in range(0, 10)})\n",
    "\n",
    "lst_dict1 = [{\"a\": 123, \"b\": \"X\"}, {\"a\": 56, \"b\": \"Y\"}, {\"a\": 99, \"b\": \"Z\"}]\n",
    "print({d['b']: d['a'] for d in lst_dict1})\n",
    "\n",
    "lst_dict2 = {\"a\": 8, \"b\": 2, \"c\": 3}\n",
    "print({v: k for k, v in lst_dict2.items()}) # swap key - value\n"
   ],
   "outputs": [
    {
     "output_type": "stream",
     "name": "stdout",
     "text": [
      "{0: 0, 1: 2, 2: 4, 3: 6, 4: 8, 5: 10, 6: 12, 7: 14, 8: 16, 9: 18}\n",
      "{'A': 0, 'B': 2, 'C': 4, 'D': 6, 'E': 8, 'F': 10, 'G': 12, 'H': 14, 'I': 16, 'J': 18}\n",
      "{'X': 123, 'Y': 56, 'Z': 99}\n",
      "{8: 'a', 2: 'b', 3: 'c'}\n"
     ]
    }
   ],
   "metadata": {}
  },
  {
   "cell_type": "code",
   "execution_count": 27,
   "source": [
    "# Set Comprehensions\n",
    "\n",
    "print({x % 5 for x in range(0, 100)}) # unique\n",
    "\n",
    "lst_dict3 = {\"a\": 8, \"b\": 2, \"c\": 3, \"d\": 3}\n",
    "print({v for _, v in lst_dict3.items()}) # _ is not used key variable, not same in Golang :lol:"
   ],
   "outputs": [
    {
     "output_type": "stream",
     "name": "stdout",
     "text": [
      "{0, 1, 2, 3, 4}\n",
      "{8, 2, 3}\n"
     ]
    }
   ],
   "metadata": {}
  },
  {
   "cell_type": "code",
   "execution_count": 28,
   "source": [
    "# Generator Comprehensions\n",
    "\n",
    "even_gen = (x for x in range(0, 10) if x % 2 == 0)\n",
    "print(even_gen)\n",
    "print(next(even_gen))\n",
    "print(next(even_gen))\n",
    "\n",
    "# print remaining even numbers\n",
    "for i in even_gen:\n",
    "    print(i)"
   ],
   "outputs": [
    {
     "output_type": "stream",
     "name": "stdout",
     "text": [
      "<generator object <genexpr> at 0x7f8022a92f20>\n",
      "0\n",
      "2\n",
      "4\n",
      "6\n",
      "8\n"
     ]
    }
   ],
   "metadata": {}
  }
 ],
 "metadata": {
  "orig_nbformat": 4,
  "language_info": {
   "name": "python",
   "version": "3.8.10",
   "mimetype": "text/x-python",
   "codemirror_mode": {
    "name": "ipython",
    "version": 3
   },
   "pygments_lexer": "ipython3",
   "nbconvert_exporter": "python",
   "file_extension": ".py"
  },
  "kernelspec": {
   "name": "python3",
   "display_name": "Python 3.8.10 64-bit"
  },
  "interpreter": {
   "hash": "53aa44ee5584dab98f6f010b7ab9d1d2a77a8f1eacf1414f0e965eca9f69a232"
  }
 },
 "nbformat": 4,
 "nbformat_minor": 2
}