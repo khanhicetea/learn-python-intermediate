{
 "cells": [
  {
   "cell_type": "markdown",
   "source": [
    "# INPUT / OUTPUT"
   ],
   "metadata": {}
  },
  {
   "cell_type": "markdown",
   "source": [
    "## open file handle function\n",
    "\n",
    "`open(file, mode='r', buffering=-1, encoding=None, errors=None, newline=None, closefd=True, opener=None)`\n",
    "\n",
    "- file : filename (or file path)\n",
    "- mode :\n",
    "    - r : read mode (default)\n",
    "    - w : write mode, truncating the file first\n",
    "    - x : open for exclusive creation, failing if the file already exists\n",
    "    - a : open for writing, appending to the end of the file if it exists\n",
    "    - b : binary mode\n",
    "    - t : text mode (default)\n",
    "    - \\+ : open for updating (reading and writing)\n",
    "    \n",
    "    - So mode default is 'rt'\n"
   ],
   "metadata": {}
  },
  {
   "cell_type": "code",
   "execution_count": 107,
   "source": [
    "# read text mode\n",
    "\n",
    "f1 = open('../README.md', 'rt', encoding='utf-8')\n",
    "first_line = f1.readline() ## Read 1 line, stop at \\n char\n",
    "print(first_line)\n",
    "f1.close() # ensure to close file"
   ],
   "outputs": [
    {
     "output_type": "stream",
     "name": "stdout",
     "text": [
      "## Learn Python Intermediate\n",
      "\n"
     ]
    }
   ],
   "metadata": {}
  },
  {
   "cell_type": "code",
   "execution_count": 108,
   "source": [
    "# write mode\n",
    "\n",
    "import random\n",
    "import os\n",
    "\n",
    "def check_file_exised(filename):\n",
    "    if os.path.isfile(filename):\n",
    "        f_stat = os.stat(filename)\n",
    "        print(f'{filename} is existed with {f_stat.st_size} bytes')\n",
    "    else:\n",
    "        print(f'{filename} is not existed')\n",
    "\n",
    "random_file3 = f'/tmp/python-write-{random.randint(100, 999)}'\n",
    "check_file_exised(random_file3)\n",
    "\n",
    "f3 = open(random_file3, 'w')\n",
    "w1 = f3.write(\"Hello world\")\n",
    "w2 = f3.write(\"\\nTiếng Việt\")\n",
    "print(w1, w2) # w1, w2 is number of charaters (text mode) or bytes (binary mode) written to file\n",
    "f3.close() # ensure to close file\n",
    "\n",
    "check_file_exised(random_file3) # You can see more 4 bytes because 2 unicode chars with (3 bytes / char)"
   ],
   "outputs": [
    {
     "output_type": "stream",
     "name": "stdout",
     "text": [
      "/tmp/python-write-738 is not existed\n",
      "11 11\n",
      "/tmp/python-write-738 is existed with 26 bytes\n"
     ]
    }
   ],
   "metadata": {}
  },
  {
   "cell_type": "code",
   "execution_count": 109,
   "source": [
    "# read binary mode\n",
    "\n",
    "def read_line_by_line_binary(filename):\n",
    "    f2 = open(filename, 'rb')\n",
    "    # read line by line\n",
    "    for line in f2:\n",
    "        print(line)\n",
    "    f2.close() # ensure to close file\n",
    "\n",
    "read_line_by_line_binary(random_file3)"
   ],
   "outputs": [
    {
     "output_type": "stream",
     "name": "stdout",
     "text": [
      "b'Hello world\\n'\n",
      "b'Ti\\xe1\\xba\\xbfng Vi\\xe1\\xbb\\x87t'\n"
     ]
    }
   ],
   "metadata": {}
  },
  {
   "cell_type": "code",
   "execution_count": 110,
   "source": [
    "# read with update\n",
    "\n",
    "f4 = open(random_file3, 'rt+')\n",
    "\n",
    "first_line = f4.readline()\n",
    "print(first_line)\n",
    "f4.write(\"\\nNew line\")\n",
    "f4.close()\n",
    "\n",
    "read_line_by_line_binary(random_file3) # so write on r+ will append on end of file"
   ],
   "outputs": [
    {
     "output_type": "stream",
     "name": "stdout",
     "text": [
      "Hello world\n",
      "\n",
      "b'Hello world\\n'\n",
      "b'Ti\\xe1\\xba\\xbfng Vi\\xe1\\xbb\\x87t\\n'\n",
      "b'New line'\n"
     ]
    }
   ],
   "metadata": {}
  },
  {
   "cell_type": "code",
   "execution_count": 111,
   "source": [
    "# seek\n",
    "f5 = open(random_file3, 'a+')\n",
    "print(f5.tell()) # tell : current position\n",
    "f5.seek(6)\n",
    "print(f5.tell()) # tell : current position\n",
    "read1 = f5.read(5)\n",
    "print(f5.tell()) # tell : current position, so read change position too\n",
    "print(read1)\n",
    "# write on current pos\n",
    "f5.write(\" ! Python !\")\n",
    "print(f5.tell()) # tell : current position\n",
    "f5.close()\n",
    "\n",
    "read_line_by_line_binary(random_file3)\n",
    "# so in UNIX, you can not write in middle of file (imagine file is array of bytes, insert some bytes in middle you have to shift all right bytes)"
   ],
   "outputs": [
    {
     "output_type": "stream",
     "name": "stdout",
     "text": [
      "35\n",
      "6\n",
      "11\n",
      "world\n",
      "46\n",
      "b'Hello world\\n'\n",
      "b'Ti\\xe1\\xba\\xbfng Vi\\xe1\\xbb\\x87t\\n'\n",
      "b'New line ! Python !'\n"
     ]
    }
   ],
   "metadata": {}
  },
  {
   "cell_type": "code",
   "execution_count": 112,
   "source": [
    "# append mode\n",
    "\n",
    "f6 = open(random_file3, 'a')\n",
    "f6.write(\"\\nHehehehe\")\n",
    "f6.close()\n",
    "\n",
    "read_line_by_line_binary(random_file3)"
   ],
   "outputs": [
    {
     "output_type": "stream",
     "name": "stdout",
     "text": [
      "b'Hello world\\n'\n",
      "b'Ti\\xe1\\xba\\xbfng Vi\\xe1\\xbb\\x87t\\n'\n",
      "b'New line ! Python !\\n'\n",
      "b'Hehehehe'\n"
     ]
    }
   ],
   "metadata": {}
  },
  {
   "cell_type": "code",
   "execution_count": 113,
   "source": [
    "# with (context manager)\n",
    "\n",
    "# it auto close file (on finish or on exception => safe way)\n",
    "with open(random_file3, 'rt') as f7:\n",
    "    for line in f7:\n",
    "        print(line, end='') # file already have \\n char"
   ],
   "outputs": [
    {
     "output_type": "stream",
     "name": "stdout",
     "text": [
      "Hello world\n",
      "Tiếng Việt\n",
      "New line ! Python !\n",
      "Hehehehe"
     ]
    }
   ],
   "metadata": {}
  }
 ],
 "metadata": {
  "orig_nbformat": 4,
  "language_info": {
   "name": "python",
   "version": "3.8.10",
   "mimetype": "text/x-python",
   "codemirror_mode": {
    "name": "ipython",
    "version": 3
   },
   "pygments_lexer": "ipython3",
   "nbconvert_exporter": "python",
   "file_extension": ".py"
  },
  "kernelspec": {
   "name": "python3",
   "display_name": "Python 3.8.10 64-bit ('learn-python-intermediate-3UIPR_d7-py3.8': venv)"
  },
  "interpreter": {
   "hash": "53aa44ee5584dab98f6f010b7ab9d1d2a77a8f1eacf1414f0e965eca9f69a232"
  }
 },
 "nbformat": 4,
 "nbformat_minor": 2
}