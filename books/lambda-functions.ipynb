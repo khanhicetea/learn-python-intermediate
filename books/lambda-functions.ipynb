{
 "cells": [
  {
   "cell_type": "markdown",
   "source": [
    "## Lambda Function"
   ],
   "metadata": {}
  },
  {
   "cell_type": "code",
   "execution_count": 5,
   "source": [
    "# Syntax\n",
    "# lambda args: [1-line expression without return]\n",
    "\n",
    "def normal(x):\n",
    "    return x * x\n",
    "\n",
    "print(normal)\n",
    "print(lambda x: x * x) # also a function without name (anonymous function)\n"
   ],
   "outputs": [
    {
     "output_type": "stream",
     "name": "stdout",
     "text": [
      "<function normal at 0x7f601475e940>\n",
      "<function <lambda> at 0x7f601475eaf0>\n"
     ]
    }
   ],
   "metadata": {}
  },
  {
   "cell_type": "code",
   "execution_count": 3,
   "source": [
    "# Run it once\n",
    "\n",
    "(lambda x: x * x)(3)"
   ],
   "outputs": [
    {
     "output_type": "execute_result",
     "data": {
      "text/plain": [
       "9"
      ]
     },
     "metadata": {},
     "execution_count": 3
    }
   ],
   "metadata": {}
  },
  {
   "cell_type": "code",
   "execution_count": 6,
   "source": [
    "# Store it as var (not recommended, do normal def function within a name is better)\n",
    "\n",
    "square = lambda x: x * x\n",
    "print(square)\n",
    "print(square(3))"
   ],
   "outputs": [
    {
     "output_type": "stream",
     "name": "stdout",
     "text": [
      "<function <lambda> at 0x7f601475e820>\n",
      "9\n"
     ]
    }
   ],
   "metadata": {}
  },
  {
   "cell_type": "code",
   "execution_count": 28,
   "source": [
    "# Pass it as a function to another function\n",
    "\n",
    "lst = [1, 2, 3, 4, 5, 6, 7, 8, 9]\n",
    "\n",
    "squared_lst = map(lambda x: x * x, lst)\n",
    "print(list(squared_lst))\n",
    "\n",
    "even_lst = filter(lambda x: x % 2 == 0, lst)\n",
    "print(list(even_lst))\n",
    "\n",
    "# conditional lambda\n",
    "weird_lst = map(lambda x: x * 2 if x < 5 else x, lst)\n",
    "print(list(weird_lst))\n",
    "\n",
    "# nested ?\n",
    "nested_list = filter(lambda x: (lambda y: y * 3)(x), lst)\n",
    "print(list(nested_list))\n",
    "# could hot but should not :D"
   ],
   "outputs": [
    {
     "output_type": "stream",
     "name": "stdout",
     "text": [
      "[1, 4, 9, 16, 25, 36, 49, 64, 81]\n",
      "[2, 4, 6, 8]\n",
      "[2, 4, 6, 8, 5, 6, 7, 8, 9]\n",
      "[1, 2, 3, 4, 5, 6, 7, 8, 9]\n"
     ]
    }
   ],
   "metadata": {}
  },
  {
   "cell_type": "code",
   "execution_count": 22,
   "source": [
    "# Multi parameters\n",
    "tpl = [(1, 2), (5, 7), (8, 2)]\n",
    "tpl_map = map(lambda a, b: a * b, tpl) # can not destruct tuple\n",
    "print(list(tpl_map))"
   ],
   "outputs": [
    {
     "output_type": "error",
     "ename": "TypeError",
     "evalue": "<lambda>() missing 1 required positional argument: 'b'",
     "traceback": [
      "\u001b[0;31m---------------------------------------------------------------------------\u001b[0m",
      "\u001b[0;31mTypeError\u001b[0m                                 Traceback (most recent call last)",
      "\u001b[0;32m/tmp/ipykernel_52895/4294208489.py\u001b[0m in \u001b[0;36m<module>\u001b[0;34m\u001b[0m\n\u001b[1;32m      2\u001b[0m \u001b[0mtpl\u001b[0m \u001b[0;34m=\u001b[0m \u001b[0;34m[\u001b[0m\u001b[0;34m(\u001b[0m\u001b[0;36m1\u001b[0m\u001b[0;34m,\u001b[0m \u001b[0;36m2\u001b[0m\u001b[0;34m)\u001b[0m\u001b[0;34m,\u001b[0m \u001b[0;34m(\u001b[0m\u001b[0;36m5\u001b[0m\u001b[0;34m,\u001b[0m \u001b[0;36m7\u001b[0m\u001b[0;34m)\u001b[0m\u001b[0;34m,\u001b[0m \u001b[0;34m(\u001b[0m\u001b[0;36m8\u001b[0m\u001b[0;34m,\u001b[0m \u001b[0;36m2\u001b[0m\u001b[0;34m)\u001b[0m\u001b[0;34m]\u001b[0m\u001b[0;34m\u001b[0m\u001b[0;34m\u001b[0m\u001b[0m\n\u001b[1;32m      3\u001b[0m \u001b[0mtpl_map\u001b[0m \u001b[0;34m=\u001b[0m \u001b[0mmap\u001b[0m\u001b[0;34m(\u001b[0m\u001b[0;32mlambda\u001b[0m \u001b[0ma\u001b[0m\u001b[0;34m,\u001b[0m \u001b[0mb\u001b[0m\u001b[0;34m:\u001b[0m \u001b[0ma\u001b[0m \u001b[0;34m*\u001b[0m \u001b[0mb\u001b[0m\u001b[0;34m,\u001b[0m \u001b[0mtpl\u001b[0m\u001b[0;34m)\u001b[0m \u001b[0;31m# can not destruct tuple\u001b[0m\u001b[0;34m\u001b[0m\u001b[0;34m\u001b[0m\u001b[0m\n\u001b[0;32m----> 4\u001b[0;31m \u001b[0mprint\u001b[0m\u001b[0;34m(\u001b[0m\u001b[0mlist\u001b[0m\u001b[0;34m(\u001b[0m\u001b[0mtpl_map\u001b[0m\u001b[0;34m)\u001b[0m\u001b[0;34m)\u001b[0m\u001b[0;34m\u001b[0m\u001b[0;34m\u001b[0m\u001b[0m\n\u001b[0m",
      "\u001b[0;31mTypeError\u001b[0m: <lambda>() missing 1 required positional argument: 'b'"
     ]
    }
   ],
   "metadata": {}
  },
  {
   "cell_type": "code",
   "execution_count": 23,
   "source": [
    "# Multi parameters\n",
    "tpl = [(1, 2), (5, 7), (8, 2)]\n",
    "tpl_map = map(lambda t: t[0] * t[1], tpl)\n",
    "print(list(tpl_map))"
   ],
   "outputs": [
    {
     "output_type": "stream",
     "name": "stdout",
     "text": [
      "[2, 35, 16]\n"
     ]
    }
   ],
   "metadata": {}
  },
  {
   "cell_type": "code",
   "execution_count": 25,
   "source": [
    "# Closure ??\n",
    "\n",
    "def add_func(x):\n",
    "    return lambda y: y + x\n",
    "\n",
    "add_3 = add_func(3)\n",
    "print(add_3(3))\n",
    "\n",
    "# Or even shorter (could hot but should not)\n",
    "multi_func = lambda x: lambda y: x * y\n",
    "multi_3 = multi_func(3)\n",
    "print(multi_3(7))\n"
   ],
   "outputs": [
    {
     "output_type": "stream",
     "name": "stdout",
     "text": [
      "6\n",
      "21\n"
     ]
    }
   ],
   "metadata": {}
  },
  {
   "cell_type": "markdown",
   "source": [
    "## SHOULD NOT"
   ],
   "metadata": {}
  },
  {
   "cell_type": "code",
   "execution_count": 47,
   "source": [
    "# Duplicate logic of builtin function\n",
    "map(lambda x: abs(x), lst)\n",
    "# instead of\n",
    "map(abs, lst)\n",
    "\n",
    "# Store lambda into var (lambda's created to be short and forgotten)\n",
    "ld1 = lambda x: x + 3\n",
    "\n",
    "# Use more than 1 lambda in 1 line of code (abused and messy), remember this ?\n",
    "nested_list1 = map(lambda x: (lambda y: y * 3)(x), lst)\n",
    "# or even worse\n",
    "nested_list2 = map(lambda x: (lambda z: ((lambda y: y * 3) if z < 5 else (lambda m: m * 2)))(x)(x), lst)\n",
    "\n",
    "print(list(nested_list1))\n",
    "print(list(nested_list2))"
   ],
   "outputs": [
    {
     "output_type": "stream",
     "name": "stdout",
     "text": [
      "[3, 6, 9, 12, 15, 18, 21, 24, 27]\n",
      "[3, 6, 9, 12, 10, 12, 14, 16, 18]\n"
     ]
    }
   ],
   "metadata": {}
  }
 ],
 "metadata": {
  "orig_nbformat": 4,
  "language_info": {
   "name": "python",
   "version": "3.8.10",
   "mimetype": "text/x-python",
   "codemirror_mode": {
    "name": "ipython",
    "version": 3
   },
   "pygments_lexer": "ipython3",
   "nbconvert_exporter": "python",
   "file_extension": ".py"
  },
  "kernelspec": {
   "name": "python3",
   "display_name": "Python 3.8.10 64-bit ('learn-python-intermediate-3UIPR_d7-py3.8': venv)"
  },
  "interpreter": {
   "hash": "53aa44ee5584dab98f6f010b7ab9d1d2a77a8f1eacf1414f0e965eca9f69a232"
  }
 },
 "nbformat": 4,
 "nbformat_minor": 2
}