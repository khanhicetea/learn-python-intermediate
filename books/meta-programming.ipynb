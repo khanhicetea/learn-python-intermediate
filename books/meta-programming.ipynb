{
 "cells": [
  {
   "cell_type": "markdown",
   "source": [
    "## Learn Python Meta Programming"
   ],
   "metadata": {}
  },
  {
   "cell_type": "code",
   "execution_count": 2,
   "source": [
    "## Typing of any variable\n",
    "class Meta1:\n",
    "    pass\n",
    "\n",
    "def func1():\n",
    "    pass\n",
    "\n",
    "a = 1\n",
    "b = 1.2\n",
    "c = \"hello\"\n",
    "d = True\n",
    "e = None\n",
    "f = Meta1()\n",
    "\n",
    "print(a, b, c, d, e, f, func1)\n",
    "print(type(a), type(b), type(c), type(d), type(e), type(f), type(func1))\n",
    "\n",
    "# So type() function return a typing class of variable (even int, float, str and bool in Python is a class)"
   ],
   "outputs": [
    {
     "output_type": "stream",
     "name": "stdout",
     "text": [
      "1 1.2 hello True None <__main__.Meta1 object at 0x7f7b185741f0> <function func1 at 0x7f7b1855d820>\n",
      "<class 'int'> <class 'float'> <class 'str'> <class 'bool'> <class 'NoneType'> <class '__main__.Meta1'> <class 'function'>\n"
     ]
    }
   ],
   "metadata": {}
  },
  {
   "cell_type": "code",
   "execution_count": 3,
   "source": [
    "import inspect\n",
    "\n",
    "print(inspect.isclass(a))\n",
    "print(inspect.isclass(type(a)))\n",
    "print(inspect.isclass(f))\n",
    "print(inspect.isclass(type(f)))\n",
    "print(inspect.isclass(inspect.isclass(type(f))))\n",
    "print(inspect.isclass(type(inspect.isclass(type(f)))))\n",
    "print(type(type(f)))\n",
    "\n",
    "# Looks like everything in Python is a object of a class => best place for meta programming :)"
   ],
   "outputs": [
    {
     "output_type": "stream",
     "name": "stdout",
     "text": [
      "False\n",
      "True\n",
      "False\n",
      "True\n",
      "False\n",
      "True\n",
      "<class 'type'>\n"
     ]
    }
   ],
   "metadata": {}
  },
  {
   "cell_type": "code",
   "execution_count": 4,
   "source": [
    "# Some common namespaces of a class\n",
    "\n",
    "# So let print more readable with this command\n",
    "from pprint import pprint\n",
    "\n",
    "class Meta2:\n",
    "    ''' Okay, this is document about Meta2 class '''\n",
    "    var2 = 42\n",
    "    def __init__(self) -> None:\n",
    "        print(\"Hello from Meta2\")\n",
    "    \n",
    "    def echo(self):\n",
    "        ''' this is echoooooo function '''\n",
    "        print(\"Echooooo\")\n",
    "        print(self)\n",
    "\n",
    "print(type(Meta2.__dict__)) \n",
    "pprint(Meta2.__dict__) # Namespace of class\n",
    "\n",
    "echo_from_meta2 = Meta2.__dict__.get('echo') # Try to get echo func from class namespace\n",
    "try:\n",
    "    echo_from_meta2(\"KhanhIceTea\") # Pass anything to param \"self\", works ! self is not variable for current object in class context\n",
    "    echo_from_meta2() # Keep param \"self\" empty => exception \n",
    "except Exception as e:\n",
    "    print(e)\n",
    "pprint(echo_from_meta2.__dict__) # function doesn't have namespace like class"
   ],
   "outputs": [
    {
     "output_type": "stream",
     "name": "stdout",
     "text": [
      "<class 'mappingproxy'>\n",
      "mappingproxy({'__dict__': <attribute '__dict__' of 'Meta2' objects>,\n",
      "              '__doc__': ' Okay, this is document about Meta2 class ',\n",
      "              '__init__': <function Meta2.__init__ at 0x7f7b1855dca0>,\n",
      "              '__module__': '__main__',\n",
      "              '__weakref__': <attribute '__weakref__' of 'Meta2' objects>,\n",
      "              'echo': <function Meta2.echo at 0x7f7b1855dd30>,\n",
      "              'var2': 42})\n",
      "Echooooo\n",
      "KhanhIceTea\n",
      "echo() missing 1 required positional argument: 'self'\n",
      "{}\n"
     ]
    }
   ],
   "metadata": {}
  },
  {
   "cell_type": "code",
   "execution_count": 5,
   "source": [
    "## Ok, deep dive into type() function\n",
    "\n",
    "# print type func signature\n",
    "print(type.__doc__)\n",
    "\n",
    "# interesting ! so let try call type with 3 args as docs say \"type(name, bases, dict) -> a new type\"\n",
    "# Becareful, bases arg is tupple of base classes\n",
    "CloneMeta3 = type(\"CloneMeta2\", (Meta2,), {\"var3\": 4})\n",
    "\n",
    "# IDE with warning this class is not defined, but is it\n",
    "print(CloneMeta3) # new class is belongs to current module run the type() func\n",
    "print(CloneMeta3.var2, CloneMeta3.var3) # new SubClass inherits base classes\n",
    "clone1 = CloneMeta3()\n",
    "clone1.echo()\n",
    "print(type(CloneMeta3))\n"
   ],
   "outputs": [
    {
     "output_type": "stream",
     "name": "stdout",
     "text": [
      "type(object_or_name, bases, dict)\n",
      "type(object) -> the object's type\n",
      "type(name, bases, dict) -> a new type\n",
      "<class '__main__.CloneMeta2'>\n",
      "42 4\n",
      "Hello from Meta2\n",
      "Echooooo\n",
      "<__main__.CloneMeta2 object at 0x7f7b18574b80>\n",
      "<class 'type'>\n"
     ]
    }
   ],
   "metadata": {}
  },
  {
   "cell_type": "code",
   "execution_count": 6,
   "source": [
    "# OK, nice lets try convert this\n",
    "# class A:\n",
    "#     var1 = 1\n",
    "# class B(A):\n",
    "#     var2 = 2\n",
    "# by using type() function\n",
    "\n",
    "A = type(\"A\", (), {\"var1\": 1})\n",
    "B = type(\"B\", (A,), {\"var2\": 2})\n",
    "\n",
    "print(A)\n",
    "print(A.var1)\n",
    "print(B)\n",
    "print(B.var1)\n",
    "print(B.var2)"
   ],
   "outputs": [
    {
     "output_type": "stream",
     "name": "stdout",
     "text": [
      "<class '__main__.A'>\n",
      "1\n",
      "<class '__main__.B'>\n",
      "1\n",
      "2\n"
     ]
    }
   ],
   "metadata": {}
  },
  {
   "cell_type": "markdown",
   "source": [
    "## Decorators"
   ],
   "metadata": {}
  },
  {
   "cell_type": "code",
   "execution_count": 7,
   "source": [
    "def echo1(msg: str):\n",
    "    ''' This func will echo loud to input message '''\n",
    "    print(f\"echo1 is echoing the msg '{msg}'\")\n",
    "\n",
    "print(echo1)\n",
    "echo1(\"Hello world!\")\n",
    "\n",
    "# Now we create a decorator function to wrap (like Proxy Pattern in OOP)\n",
    "def decor1(func):\n",
    "    return func\n",
    "\n",
    "decor1_echo1 = decor1(echo1) # this simplest decorator function\n",
    "decor1_echo1(\"He he ha ha\") # The same result as echo1 func\n",
    "\n",
    "print(decor1_echo1)\n",
    "print(decor1_echo1 == echo1)\n",
    "print(\"It's have the same pointer address b/c return same function\")\n",
    "\n"
   ],
   "outputs": [
    {
     "output_type": "stream",
     "name": "stdout",
     "text": [
      "<function echo1 at 0x7f7b1855d5e0>\n",
      "echo1 is echoing the msg 'Hello world!'\n",
      "echo1 is echoing the msg 'He he ha ha'\n",
      "<function echo1 at 0x7f7b1855d5e0>\n",
      "True\n",
      "It's have the same pointer address b/c return same function\n"
     ]
    }
   ],
   "metadata": {}
  },
  {
   "cell_type": "code",
   "execution_count": 8,
   "source": [
    "# Go to more complex decorator\n",
    "\n",
    "def decor2(func):\n",
    "    def wrap(*args, **kwargs):\n",
    "        print(\"Ehhhhh hemmmmm, calling from decor2 wrap function\")\n",
    "        ret = func(*args, **kwargs) # store returned value\n",
    "        print(\"Yay, finished !\")\n",
    "        return ret\n",
    "    return wrap\n",
    "\n",
    "@decor2\n",
    "def echo2(msg: str):\n",
    "    ''' This func will echo loud to input message '''\n",
    "    print(f\"echo2 is echoing the msg '{msg}'\")\n",
    "\n",
    "decor2_echo1 = decor2(echo1)\n",
    "\n",
    "print(\"=== Try to deepdive into some common namespaces of decorated function decor1_echo1\")\n",
    "pprint(decor2_echo1.__name__)\n",
    "pprint(decor2_echo1.__dict__)\n",
    "pprint(decor2_echo1.__dir__)\n",
    "pprint(decor2_echo1.__doc__)\n",
    "pprint(decor2_echo1.__annotations__)\n",
    "pprint(decor2_echo1.__call__)\n",
    "\n",
    "print(\"=== Try to deepdive into some common namespaces of decorated function echo2\")\n",
    "pprint(echo2.__name__)\n",
    "pprint(echo2.__dict__)\n",
    "pprint(echo2.__dir__)\n",
    "pprint(echo2.__doc__)\n",
    "pprint(echo2.__annotations__)\n",
    "pprint(echo2.__call__)\n",
    "print(\"=> As you can see, all namespaces of echo1, echo2 wouldn't be copied to final functions\")\n"
   ],
   "outputs": [
    {
     "output_type": "stream",
     "name": "stdout",
     "text": [
      "=== Try to deepdive into some common namespaces of decorated function decor1_echo1\n",
      "'wrap'\n",
      "{}\n",
      "<built-in method __dir__ of function object at 0x7f7b1ae533a0>\n",
      "None\n",
      "{}\n",
      "<method-wrapper '__call__' of function object at 0x7f7b1ae533a0>\n",
      "=== Try to deepdive into some common namespaces of decorated function echo2\n",
      "'wrap'\n",
      "{}\n",
      "<built-in method __dir__ of function object at 0x7f7b1860b820>\n",
      "None\n",
      "{}\n",
      "<method-wrapper '__call__' of function object at 0x7f7b1860b820>\n",
      "=> As you can see, all namespaces of echo1, echo2 wouldn't be copied to final functions\n"
     ]
    }
   ],
   "metadata": {}
  },
  {
   "cell_type": "code",
   "execution_count": 9,
   "source": [
    "# So we have to copy namespace we need in decorated function\n",
    "def decor3(func):\n",
    "    def wrap(*args, **kwargs):\n",
    "        print(\"Ehhhhh hemmmmm, calling from decor2 wrap function\")\n",
    "        ret = func(*args, **kwargs) # store returned value\n",
    "        print(\"Yay, finished !\")\n",
    "        return ret\n",
    "    wrap.__name__ = func.__name__\n",
    "    wrap.__doc__ = func.__doc__\n",
    "    wrap.__annotations__ = func.__annotations__\n",
    "    return wrap\n",
    "\n",
    "@decor3\n",
    "def echo3(msg: str):\n",
    "    ''' This func will echo loud to input message '''\n",
    "    print(f\"echo3 is echoing the msg '{msg}'\")\n",
    "\n",
    "echo3(\"OK\")\n",
    "print(\"=== Try to deepdive into some common namespaces of decorated function echo3\")\n",
    "pprint(echo3.__name__)\n",
    "pprint(echo3.__doc__)\n",
    "pprint(echo3.__annotations__)\n",
    "print(\"=== See ! echo3 has its original namespaces\")"
   ],
   "outputs": [
    {
     "output_type": "stream",
     "name": "stdout",
     "text": [
      "Ehhhhh hemmmmm, calling from decor2 wrap function\n",
      "echo3 is echoing the msg 'OK'\n",
      "Yay, finished !\n",
      "=== Try to deepdive into some common namespaces of decorated function echo3\n",
      "'echo3'\n",
      "' This func will echo loud to input message '\n",
      "{'msg': <class 'str'>}\n",
      "=== See ! echo3 has its original namespaces\n"
     ]
    }
   ],
   "metadata": {}
  },
  {
   "cell_type": "code",
   "execution_count": 10,
   "source": [
    "# Copy namespace by using built-in function called wrap in functools module\n",
    "from functools import wraps\n",
    "\n",
    "def decor4(func):\n",
    "    ''' \n",
    "    all it do is copy func's namespaces to wrap's namespaces :\n",
    "        (__name__, __qualname__, __module__, __doc__, __annotations__)\n",
    "    & updates __dict__ elements\n",
    "    & point wrap.__wrapped__ to original func\n",
    "    '''\n",
    "    @wraps(func) \n",
    "    def wrap(*args, **kwargs):\n",
    "        print(\"Ehhhhh hemmmmm, calling from decor2 wrap function\")\n",
    "        ret = func(*args, **kwargs) # store returned value\n",
    "        print(\"Yay, finished !\")\n",
    "        return ret\n",
    "    return wrap\n",
    "\n",
    "@decor4\n",
    "def echo4(msg: str):\n",
    "    ''' This func will echo loud to input message '''\n",
    "    print(f\"echo4 is echoing the msg '{msg}'\")\n",
    "\n",
    "echo3(\"OK\")\n",
    "print(\"=== Try to deepdive into some common namespaces of decorated function echo4\")\n",
    "\n",
    "pprint(echo4.__name__)\n",
    "pprint(echo4.__qualname__)\n",
    "pprint(echo4.__module__)\n",
    "pprint(echo4.__doc__)\n",
    "pprint(echo4.__annotations__)\n",
    "pprint(echo4.__wrapped__) # original echo4\n",
    "pprint(echo4) # new echo4\n",
    "print(\"=== See ! echo3 has its original namespaces\")"
   ],
   "outputs": [
    {
     "output_type": "stream",
     "name": "stdout",
     "text": [
      "Ehhhhh hemmmmm, calling from decor2 wrap function\n",
      "echo3 is echoing the msg 'OK'\n",
      "Yay, finished !\n",
      "=== Try to deepdive into some common namespaces of decorated function echo4\n",
      "'echo4'\n",
      "'echo4'\n",
      "'__main__'\n",
      "' This func will echo loud to input message '\n",
      "{'msg': <class 'str'>}\n",
      "<function echo4 at 0x7f7b18503160>\n",
      "<function echo4 at 0x7f7b185031f0>\n",
      "=== See ! echo3 has its original namespaces\n"
     ]
    }
   ],
   "metadata": {}
  },
  {
   "cell_type": "code",
   "execution_count": 12,
   "source": [
    "# Okay, you can see `wraps` built-in function is used as decorator it self :lol: and it has additional parameters,\n",
    "# let's try !\n",
    "# Basically, it's just a function that return a decorator\n",
    "\n",
    "def decor5(bye_msg):\n",
    "    def inner_decor(func):\n",
    "        @wraps(func) \n",
    "        def wrap(*args, **kwargs):\n",
    "            print(\"Ehhhhh hemmmmm, calling from decor2 wrap function\")\n",
    "            ret = func(*args, **kwargs) # store returned value\n",
    "            print(\"Yay, finished ! \", bye_msg) # use `bye_msg` parameter here (like a closure)\n",
    "            return ret\n",
    "        return wrap\n",
    "    return inner_decor\n",
    "\n",
    "@decor5(\"Bye bye buddy !\")\n",
    "def echo5(msg: str):\n",
    "    ''' This func will echo loud to input message '''\n",
    "    print(f\"echo5 is echoing the msg '{msg}'\")\n",
    "\n",
    "echo5(\"Hi Python community !\")"
   ],
   "outputs": [
    {
     "output_type": "stream",
     "name": "stdout",
     "text": [
      "Ehhhhh hemmmmm, calling from decor2 wrap function\n",
      "echo5 is echoing the msg 'Hi Python community !'\n",
      "Yay, finished !  Bye bye buddy !\n"
     ]
    }
   ],
   "metadata": {}
  }
 ],
 "metadata": {
  "orig_nbformat": 4,
  "language_info": {
   "name": "python",
   "version": "3.8.10",
   "mimetype": "text/x-python",
   "codemirror_mode": {
    "name": "ipython",
    "version": 3
   },
   "pygments_lexer": "ipython3",
   "nbconvert_exporter": "python",
   "file_extension": ".py"
  },
  "kernelspec": {
   "name": "python3",
   "display_name": "Python 3.8.10 64-bit ('learn-python-intermediate-3UIPR_d7-py3.8': venv)"
  },
  "interpreter": {
   "hash": "53aa44ee5584dab98f6f010b7ab9d1d2a77a8f1eacf1414f0e965eca9f69a232"
  }
 },
 "nbformat": 4,
 "nbformat_minor": 2
}