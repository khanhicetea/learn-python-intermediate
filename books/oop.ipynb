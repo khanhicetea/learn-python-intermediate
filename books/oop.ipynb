{
 "cells": [
  {
   "cell_type": "markdown",
   "source": [
    "# Object Oriented Programming"
   ],
   "metadata": {}
  },
  {
   "cell_type": "code",
   "execution_count": 23,
   "source": [
    "# Class\n",
    "\n",
    "class Circus:\n",
    "    # mutable class variable, becareful\n",
    "    animals = []\n",
    "    # immutable class variable\n",
    "    count_of_animal = 0\n",
    "\n",
    "    def welcome_new(self, animal):\n",
    "        self.animals.append(animal)\n",
    "        self.count_of_animal = self.count_of_animal + 1\n",
    "\n",
    "class Animal:\n",
    "    name_type = None\n",
    "\n",
    "    # this is initializer, called when create new object of class (with args passed)\n",
    "    def __init__(self, name):\n",
    "        self.name = name\n",
    "        print(f\"New animal name {self.name} is born in the circus\")\n",
    "\n",
    "# Inheritance\n",
    "class Dog(Animal):\n",
    "    name_type = \"Dog\"\n",
    "\n",
    "    def sound(self):\n",
    "        print(\"Woop Woop\")\n",
    "\n",
    "# Inheritance\n",
    "class Elephant(Animal):\n",
    "    name_type = \"Elephant\"\n",
    "\n",
    "    def sound(self):\n",
    "        print(\"LOL I dont know how it sounds\")\n",
    "\n",
    "circus1 = Circus()\n",
    "gogo = Elephant(\"GoGo\")\n",
    "circus1.welcome_new(gogo)\n",
    "miumiu = Elephant(\"Miumiu\")\n",
    "circus1.welcome_new(miumiu)\n",
    "\n",
    "circus2 = Circus()\n",
    "lulu = Dog(\"LuLu\")\n",
    "circus2.welcome_new(lulu)\n",
    "kiki = Dog(\"KiKi\")\n",
    "circus2.welcome_new(kiki)\n",
    "\n",
    "print(\"========= Circus 1\")\n",
    "print(circus1.count_of_animal)\n",
    "print(circus1.animals) # Weird ??? Nope, it's mutable class variable\n",
    "\n",
    "print(\"========= Circus 2\")\n",
    "print(circus2.count_of_animal) \n",
    "print(circus2.animals)\n",
    "\n",
    "for a in circus2.animals:\n",
    "    a.sound()\n"
   ],
   "outputs": [
    {
     "output_type": "stream",
     "name": "stdout",
     "text": [
      "New animal name GoGo is born in the circus\n",
      "New animal name Miumiu is born in the circus\n",
      "New animal name LuLu is born in the circus\n",
      "New animal name KiKi is born in the circus\n",
      "========= Circus 1\n",
      "2\n",
      "[<__main__.Elephant object at 0x7f0fe5df0700>, <__main__.Elephant object at 0x7f0fe5df0fa0>, <__main__.Dog object at 0x7f0fe5df5730>, <__main__.Dog object at 0x7f0fe5e070a0>]\n",
      "========= Circus 2\n",
      "2\n",
      "[<__main__.Elephant object at 0x7f0fe5df0700>, <__main__.Elephant object at 0x7f0fe5df0fa0>, <__main__.Dog object at 0x7f0fe5df5730>, <__main__.Dog object at 0x7f0fe5e070a0>]\n",
      "LOL I dont know how it sounds\n",
      "LOL I dont know how it sounds\n",
      "Woop Woop\n",
      "Woop Woop\n"
     ]
    }
   ],
   "metadata": {}
  },
  {
   "cell_type": "code",
   "execution_count": 24,
   "source": [
    "# classmethod, staticmethod\n",
    "\n",
    "class Tool:\n",
    "    secret_number = 42\n",
    "\n",
    "    # need indentify which class is called to get that class info\n",
    "    @classmethod\n",
    "    def get_secret(cls):\n",
    "        return cls.secret_number\n",
    "\n",
    "class Hammer(Tool):\n",
    "    secret_number = 99\n",
    "\n",
    "    # don't need any self or cls, put in class just because isolate business logic or make senses\n",
    "    @staticmethod\n",
    "    def hit(nail):\n",
    "        print(f\"Hitted the nail {nail}\")\n",
    "\n",
    "print(Tool.get_secret())\n",
    "print(Hammer.get_secret())\n",
    "\n",
    "Hammer.hit(\"nail1\")\n",
    "Hammer.hit(\"nail2\")"
   ],
   "outputs": [
    {
     "output_type": "stream",
     "name": "stdout",
     "text": [
      "42\n",
      "99\n",
      "Hitted the nail nail1\n",
      "Hitted the nail nail2\n"
     ]
    }
   ],
   "metadata": {}
  },
  {
   "cell_type": "code",
   "execution_count": 29,
   "source": [
    "# Magic methods\n",
    "\n",
    "class Num1:\n",
    "    def __init__(self, num):\n",
    "        self.num = num\n",
    "\n",
    "    def __add__(self, other_num):\n",
    "        return Num1(self.num + other_num.num)\n",
    "    \n",
    "    def __sub__(self, other_num):\n",
    "        return Num1(self.num - other_num.num)\n",
    "\n",
    "    def __eq__(self, other_num):\n",
    "        return self.num == other_num.num\n",
    "\n",
    "num1 = Num1(6)\n",
    "num2 = Num1(9)\n",
    "num3 = num1 + num2\n",
    "num4 = num3 - num2\n",
    "\n",
    "print(num1, num1.num)\n",
    "print(num2, num2.num)\n",
    "print(num3, num3.num)\n",
    "\n",
    "print(num1 == num2)\n",
    "print(num1 == num4)\n"
   ],
   "outputs": [
    {
     "output_type": "stream",
     "name": "stdout",
     "text": [
      "<__main__.Num1 object at 0x7f0fe5df55b0> 6\n",
      "<__main__.Num1 object at 0x7f0fe5df5d30> 9\n",
      "<__main__.Num1 object at 0x7f0fe5df0610> 15\n",
      "False\n",
      "True\n"
     ]
    }
   ],
   "metadata": {}
  },
  {
   "cell_type": "markdown",
   "source": [
    "# Want to see all magic ???\n",
    "\n",
    "Check it here : [https://rszalski.github.io/magicmethods/](https://rszalski.github.io/magicmethods/)"
   ],
   "metadata": {}
  }
 ],
 "metadata": {
  "orig_nbformat": 4,
  "language_info": {
   "name": "python",
   "version": "3.8.10",
   "mimetype": "text/x-python",
   "codemirror_mode": {
    "name": "ipython",
    "version": 3
   },
   "pygments_lexer": "ipython3",
   "nbconvert_exporter": "python",
   "file_extension": ".py"
  },
  "kernelspec": {
   "name": "python3",
   "display_name": "Python 3.8.10 64-bit"
  },
  "interpreter": {
   "hash": "53aa44ee5584dab98f6f010b7ab9d1d2a77a8f1eacf1414f0e965eca9f69a232"
  }
 },
 "nbformat": 4,
 "nbformat_minor": 2
}