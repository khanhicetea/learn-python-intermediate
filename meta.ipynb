{
 "cells": [
  {
   "cell_type": "markdown",
   "source": [
    "## Learn Python Meta Programming"
   ],
   "metadata": {}
  },
  {
   "cell_type": "code",
   "execution_count": 15,
   "source": [
    "## Typing of any variable\n",
    "class Meta1:\n",
    "    pass\n",
    "\n",
    "def func1():\n",
    "    pass\n",
    "\n",
    "a = 1\n",
    "b = 1.2\n",
    "c = \"hello\"\n",
    "d = True\n",
    "e = None\n",
    "f = Meta1()\n",
    "\n",
    "print(a, b, c, d, e, f, func1)\n",
    "print(type(a), type(b), type(c), type(d), type(e), type(f), type(func1))\n",
    "\n",
    "# So type() function return a typing class of variable (even int, float, str and bool in Python is a class)"
   ],
   "outputs": [
    {
     "output_type": "stream",
     "name": "stdout",
     "text": [
      "1 1.2 hello True None <__main__.Meta1 object at 0x7fa12009c850> <function func1 at 0x7fa1200a7dc0>\n",
      "<class 'int'> <class 'float'> <class 'str'> <class 'bool'> <class 'NoneType'> <class '__main__.Meta1'> <class 'function'>\n"
     ]
    }
   ],
   "metadata": {}
  },
  {
   "cell_type": "code",
   "execution_count": 16,
   "source": [
    "import inspect\n",
    "\n",
    "print(inspect.isclass(a))\n",
    "print(inspect.isclass(type(a)))\n",
    "print(inspect.isclass(f))\n",
    "print(inspect.isclass(type(f)))\n",
    "print(inspect.isclass(inspect.isclass(type(f))))\n",
    "print(inspect.isclass(type(inspect.isclass(type(f)))))\n",
    "print(type(type(f)))\n",
    "\n",
    "# Looks like everything in Python is a object of a class => best place for meta programming :)"
   ],
   "outputs": [
    {
     "output_type": "stream",
     "name": "stdout",
     "text": [
      "False\n",
      "True\n",
      "False\n",
      "True\n",
      "False\n",
      "True\n",
      "<class 'type'>\n"
     ]
    }
   ],
   "metadata": {}
  },
  {
   "cell_type": "code",
   "execution_count": 49,
   "source": [
    "# Some common namespaces of a class\n",
    "\n",
    "# So let print more readable with this command\n",
    "from pprint import pprint\n",
    "\n",
    "class Meta2:\n",
    "    ''' Okay, this is document about Meta2 class '''\n",
    "    var2 = 42\n",
    "    def __init__(self) -> None:\n",
    "        print(\"Hello from Meta2\")\n",
    "    \n",
    "    def echo(self):\n",
    "        ''' this is echoooooo function '''\n",
    "        print(\"Echooooo\")\n",
    "        print(self)\n",
    "\n",
    "print(type(Meta2.__dict__)) \n",
    "pprint(Meta2.__dict__) # Namespace of class\n",
    "\n",
    "echo_from_meta2 = Meta2.__dict__.get('echo') # Try to get echo func from class namespace\n",
    "try:\n",
    "    echo_from_meta2(\"KhanhIceTea\") # Pass anything to param \"self\", works ! self is not variable for current object in class context\n",
    "    echo_from_meta2() # Keep param \"self\" empty => exception \n",
    "except Exception as e:\n",
    "    print(e)\n",
    "pprint(echo_from_meta2.__dict__) # function doesn't have namespace like class"
   ],
   "outputs": [
    {
     "output_type": "stream",
     "name": "stdout",
     "text": [
      "<class 'mappingproxy'>\n",
      "mappingproxy({'__dict__': <attribute '__dict__' of 'Meta2' objects>,\n",
      "              '__doc__': ' Okay, this is document about Meta2 class ',\n",
      "              '__init__': <function Meta2.__init__ at 0x7fa1200a7e50>,\n",
      "              '__module__': '__main__',\n",
      "              '__weakref__': <attribute '__weakref__' of 'Meta2' objects>,\n",
      "              'echo': <function Meta2.echo at 0x7fa1200a74c0>,\n",
      "              'var2': 42})\n",
      "Echooooo\n",
      "KhanhIceTea\n",
      "echo() missing 1 required positional argument: 'self'\n",
      "{}\n"
     ]
    }
   ],
   "metadata": {}
  },
  {
   "cell_type": "code",
   "execution_count": 63,
   "source": [
    "## Ok, deep dive into type() function\n",
    "\n",
    "# print type func signature\n",
    "print(type.__doc__)\n",
    "\n",
    "# interesting ! so let try call type with 3 args as docs say \"type(name, bases, dict) -> a new type\"\n",
    "# Becareful, bases arg is tupple of base classes\n",
    "type(\"CloneMeta2\", (Meta2,), {\"var3\": 4})\n",
    "\n",
    "# IDE with warning this class is not defined, but is it\n",
    "print(CloneMeta2) # new class is belongs to current module run the type() func\n",
    "print(CloneMeta2.var2, CloneMeta2.var3) # new SubClass inherits base classes\n",
    "clone1 = CloneMeta2()\n",
    "clone1.echo()\n",
    "print(type(CloneMeta2))\n"
   ],
   "outputs": [
    {
     "output_type": "stream",
     "name": "stdout",
     "text": [
      "type(object_or_name, bases, dict)\n",
      "type(object) -> the object's type\n",
      "type(name, bases, dict) -> a new type\n",
      "<class '__main__.CloneMeta2'>\n",
      "42 4\n",
      "Hello from Meta2\n",
      "Echooooo\n",
      "<__main__.CloneMeta2 object at 0x7fa1200396d0>\n",
      "<class 'type'>\n"
     ]
    }
   ],
   "metadata": {}
  }
 ],
 "metadata": {
  "orig_nbformat": 4,
  "language_info": {
   "name": "python",
   "version": "3.8.10",
   "mimetype": "text/x-python",
   "codemirror_mode": {
    "name": "ipython",
    "version": 3
   },
   "pygments_lexer": "ipython3",
   "nbconvert_exporter": "python",
   "file_extension": ".py"
  },
  "kernelspec": {
   "name": "python3",
   "display_name": "Python 3.8.10 64-bit"
  },
  "interpreter": {
   "hash": "be52cf151897839b3a9150d43f34f448318ab735290d9bda29e5afa3f5703406"
  }
 },
 "nbformat": 4,
 "nbformat_minor": 2
}